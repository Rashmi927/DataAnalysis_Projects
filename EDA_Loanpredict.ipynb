{
 "cells": [
  {
   "cell_type": "code",
   "execution_count": 1,
   "metadata": {},
   "outputs": [],
   "source": [
    "import pandas as pd\n",
    "import numpy as np\n",
    "import seaborn as sns\n",
    "import matplotlib.pyplot as plt\n",
    "import re\n",
    "import os"
   ]
  },
  {
   "cell_type": "code",
   "execution_count": 2,
   "metadata": {},
   "outputs": [
    {
     "ename": "FileNotFoundError",
     "evalue": "[Errno 2] No such file or directory: 'C:\\\\Project\\\\Loanpredict\\\\loanpredict.csv'",
     "output_type": "error",
     "traceback": [
      "\u001b[1;31m---------------------------------------------------------------------------\u001b[0m",
      "\u001b[1;31mFileNotFoundError\u001b[0m                         Traceback (most recent call last)",
      "\u001b[1;32m<ipython-input-2-f96e0ff49edf>\u001b[0m in \u001b[0;36m<module>\u001b[1;34m\u001b[0m\n\u001b[1;32m----> 1\u001b[1;33m \u001b[0mdt\u001b[0m\u001b[1;33m=\u001b[0m\u001b[0mpd\u001b[0m\u001b[1;33m.\u001b[0m\u001b[0mread_csv\u001b[0m\u001b[1;33m(\u001b[0m\u001b[1;34m'C:\\Project\\Loanpredict\\loanpredict.csv'\u001b[0m\u001b[1;33m)\u001b[0m\u001b[1;33m\u001b[0m\u001b[1;33m\u001b[0m\u001b[0m\n\u001b[0m",
      "\u001b[1;32mC:\\ProgramData\\Anaconda3\\lib\\site-packages\\pandas\\io\\parsers.py\u001b[0m in \u001b[0;36mread_csv\u001b[1;34m(filepath_or_buffer, sep, delimiter, header, names, index_col, usecols, squeeze, prefix, mangle_dupe_cols, dtype, engine, converters, true_values, false_values, skipinitialspace, skiprows, skipfooter, nrows, na_values, keep_default_na, na_filter, verbose, skip_blank_lines, parse_dates, infer_datetime_format, keep_date_col, date_parser, dayfirst, cache_dates, iterator, chunksize, compression, thousands, decimal, lineterminator, quotechar, quoting, doublequote, escapechar, comment, encoding, dialect, error_bad_lines, warn_bad_lines, delim_whitespace, low_memory, memory_map, float_precision)\u001b[0m\n\u001b[0;32m    684\u001b[0m     )\n\u001b[0;32m    685\u001b[0m \u001b[1;33m\u001b[0m\u001b[0m\n\u001b[1;32m--> 686\u001b[1;33m     \u001b[1;32mreturn\u001b[0m \u001b[0m_read\u001b[0m\u001b[1;33m(\u001b[0m\u001b[0mfilepath_or_buffer\u001b[0m\u001b[1;33m,\u001b[0m \u001b[0mkwds\u001b[0m\u001b[1;33m)\u001b[0m\u001b[1;33m\u001b[0m\u001b[1;33m\u001b[0m\u001b[0m\n\u001b[0m\u001b[0;32m    687\u001b[0m \u001b[1;33m\u001b[0m\u001b[0m\n\u001b[0;32m    688\u001b[0m \u001b[1;33m\u001b[0m\u001b[0m\n",
      "\u001b[1;32mC:\\ProgramData\\Anaconda3\\lib\\site-packages\\pandas\\io\\parsers.py\u001b[0m in \u001b[0;36m_read\u001b[1;34m(filepath_or_buffer, kwds)\u001b[0m\n\u001b[0;32m    450\u001b[0m \u001b[1;33m\u001b[0m\u001b[0m\n\u001b[0;32m    451\u001b[0m     \u001b[1;31m# Create the parser.\u001b[0m\u001b[1;33m\u001b[0m\u001b[1;33m\u001b[0m\u001b[1;33m\u001b[0m\u001b[0m\n\u001b[1;32m--> 452\u001b[1;33m     \u001b[0mparser\u001b[0m \u001b[1;33m=\u001b[0m \u001b[0mTextFileReader\u001b[0m\u001b[1;33m(\u001b[0m\u001b[0mfp_or_buf\u001b[0m\u001b[1;33m,\u001b[0m \u001b[1;33m**\u001b[0m\u001b[0mkwds\u001b[0m\u001b[1;33m)\u001b[0m\u001b[1;33m\u001b[0m\u001b[1;33m\u001b[0m\u001b[0m\n\u001b[0m\u001b[0;32m    453\u001b[0m \u001b[1;33m\u001b[0m\u001b[0m\n\u001b[0;32m    454\u001b[0m     \u001b[1;32mif\u001b[0m \u001b[0mchunksize\u001b[0m \u001b[1;32mor\u001b[0m \u001b[0miterator\u001b[0m\u001b[1;33m:\u001b[0m\u001b[1;33m\u001b[0m\u001b[1;33m\u001b[0m\u001b[0m\n",
      "\u001b[1;32mC:\\ProgramData\\Anaconda3\\lib\\site-packages\\pandas\\io\\parsers.py\u001b[0m in \u001b[0;36m__init__\u001b[1;34m(self, f, engine, **kwds)\u001b[0m\n\u001b[0;32m    944\u001b[0m             \u001b[0mself\u001b[0m\u001b[1;33m.\u001b[0m\u001b[0moptions\u001b[0m\u001b[1;33m[\u001b[0m\u001b[1;34m\"has_index_names\"\u001b[0m\u001b[1;33m]\u001b[0m \u001b[1;33m=\u001b[0m \u001b[0mkwds\u001b[0m\u001b[1;33m[\u001b[0m\u001b[1;34m\"has_index_names\"\u001b[0m\u001b[1;33m]\u001b[0m\u001b[1;33m\u001b[0m\u001b[1;33m\u001b[0m\u001b[0m\n\u001b[0;32m    945\u001b[0m \u001b[1;33m\u001b[0m\u001b[0m\n\u001b[1;32m--> 946\u001b[1;33m         \u001b[0mself\u001b[0m\u001b[1;33m.\u001b[0m\u001b[0m_make_engine\u001b[0m\u001b[1;33m(\u001b[0m\u001b[0mself\u001b[0m\u001b[1;33m.\u001b[0m\u001b[0mengine\u001b[0m\u001b[1;33m)\u001b[0m\u001b[1;33m\u001b[0m\u001b[1;33m\u001b[0m\u001b[0m\n\u001b[0m\u001b[0;32m    947\u001b[0m \u001b[1;33m\u001b[0m\u001b[0m\n\u001b[0;32m    948\u001b[0m     \u001b[1;32mdef\u001b[0m \u001b[0mclose\u001b[0m\u001b[1;33m(\u001b[0m\u001b[0mself\u001b[0m\u001b[1;33m)\u001b[0m\u001b[1;33m:\u001b[0m\u001b[1;33m\u001b[0m\u001b[1;33m\u001b[0m\u001b[0m\n",
      "\u001b[1;32mC:\\ProgramData\\Anaconda3\\lib\\site-packages\\pandas\\io\\parsers.py\u001b[0m in \u001b[0;36m_make_engine\u001b[1;34m(self, engine)\u001b[0m\n\u001b[0;32m   1176\u001b[0m     \u001b[1;32mdef\u001b[0m \u001b[0m_make_engine\u001b[0m\u001b[1;33m(\u001b[0m\u001b[0mself\u001b[0m\u001b[1;33m,\u001b[0m \u001b[0mengine\u001b[0m\u001b[1;33m=\u001b[0m\u001b[1;34m\"c\"\u001b[0m\u001b[1;33m)\u001b[0m\u001b[1;33m:\u001b[0m\u001b[1;33m\u001b[0m\u001b[1;33m\u001b[0m\u001b[0m\n\u001b[0;32m   1177\u001b[0m         \u001b[1;32mif\u001b[0m \u001b[0mengine\u001b[0m \u001b[1;33m==\u001b[0m \u001b[1;34m\"c\"\u001b[0m\u001b[1;33m:\u001b[0m\u001b[1;33m\u001b[0m\u001b[1;33m\u001b[0m\u001b[0m\n\u001b[1;32m-> 1178\u001b[1;33m             \u001b[0mself\u001b[0m\u001b[1;33m.\u001b[0m\u001b[0m_engine\u001b[0m \u001b[1;33m=\u001b[0m \u001b[0mCParserWrapper\u001b[0m\u001b[1;33m(\u001b[0m\u001b[0mself\u001b[0m\u001b[1;33m.\u001b[0m\u001b[0mf\u001b[0m\u001b[1;33m,\u001b[0m \u001b[1;33m**\u001b[0m\u001b[0mself\u001b[0m\u001b[1;33m.\u001b[0m\u001b[0moptions\u001b[0m\u001b[1;33m)\u001b[0m\u001b[1;33m\u001b[0m\u001b[1;33m\u001b[0m\u001b[0m\n\u001b[0m\u001b[0;32m   1179\u001b[0m         \u001b[1;32melse\u001b[0m\u001b[1;33m:\u001b[0m\u001b[1;33m\u001b[0m\u001b[1;33m\u001b[0m\u001b[0m\n\u001b[0;32m   1180\u001b[0m             \u001b[1;32mif\u001b[0m \u001b[0mengine\u001b[0m \u001b[1;33m==\u001b[0m \u001b[1;34m\"python\"\u001b[0m\u001b[1;33m:\u001b[0m\u001b[1;33m\u001b[0m\u001b[1;33m\u001b[0m\u001b[0m\n",
      "\u001b[1;32mC:\\ProgramData\\Anaconda3\\lib\\site-packages\\pandas\\io\\parsers.py\u001b[0m in \u001b[0;36m__init__\u001b[1;34m(self, src, **kwds)\u001b[0m\n\u001b[0;32m   2006\u001b[0m         \u001b[0mkwds\u001b[0m\u001b[1;33m[\u001b[0m\u001b[1;34m\"usecols\"\u001b[0m\u001b[1;33m]\u001b[0m \u001b[1;33m=\u001b[0m \u001b[0mself\u001b[0m\u001b[1;33m.\u001b[0m\u001b[0musecols\u001b[0m\u001b[1;33m\u001b[0m\u001b[1;33m\u001b[0m\u001b[0m\n\u001b[0;32m   2007\u001b[0m \u001b[1;33m\u001b[0m\u001b[0m\n\u001b[1;32m-> 2008\u001b[1;33m         \u001b[0mself\u001b[0m\u001b[1;33m.\u001b[0m\u001b[0m_reader\u001b[0m \u001b[1;33m=\u001b[0m \u001b[0mparsers\u001b[0m\u001b[1;33m.\u001b[0m\u001b[0mTextReader\u001b[0m\u001b[1;33m(\u001b[0m\u001b[0msrc\u001b[0m\u001b[1;33m,\u001b[0m \u001b[1;33m**\u001b[0m\u001b[0mkwds\u001b[0m\u001b[1;33m)\u001b[0m\u001b[1;33m\u001b[0m\u001b[1;33m\u001b[0m\u001b[0m\n\u001b[0m\u001b[0;32m   2009\u001b[0m         \u001b[0mself\u001b[0m\u001b[1;33m.\u001b[0m\u001b[0munnamed_cols\u001b[0m \u001b[1;33m=\u001b[0m \u001b[0mself\u001b[0m\u001b[1;33m.\u001b[0m\u001b[0m_reader\u001b[0m\u001b[1;33m.\u001b[0m\u001b[0munnamed_cols\u001b[0m\u001b[1;33m\u001b[0m\u001b[1;33m\u001b[0m\u001b[0m\n\u001b[0;32m   2010\u001b[0m \u001b[1;33m\u001b[0m\u001b[0m\n",
      "\u001b[1;32mpandas\\_libs\\parsers.pyx\u001b[0m in \u001b[0;36mpandas._libs.parsers.TextReader.__cinit__\u001b[1;34m()\u001b[0m\n",
      "\u001b[1;32mpandas\\_libs\\parsers.pyx\u001b[0m in \u001b[0;36mpandas._libs.parsers.TextReader._setup_parser_source\u001b[1;34m()\u001b[0m\n",
      "\u001b[1;31mFileNotFoundError\u001b[0m: [Errno 2] No such file or directory: 'C:\\\\Project\\\\Loanpredict\\\\loanpredict.csv'"
     ]
    }
   ],
   "source": [
    "dt=pd.read_csv('C:\\Project\\Loanpredict\\loanpredict.csv')"
   ]
  },
  {
   "cell_type": "code",
   "execution_count": null,
   "metadata": {},
   "outputs": [],
   "source": [
    "dt.head(2)"
   ]
  },
  {
   "cell_type": "code",
   "execution_count": null,
   "metadata": {},
   "outputs": [],
   "source": [
    "dt.shape"
   ]
  },
  {
   "cell_type": "code",
   "execution_count": null,
   "metadata": {},
   "outputs": [],
   "source": [
    "dt.isnull().sum()"
   ]
  },
  {
   "cell_type": "code",
   "execution_count": null,
   "metadata": {},
   "outputs": [],
   "source": [
    "dt.duplicated().sum()"
   ]
  },
  {
   "cell_type": "code",
   "execution_count": null,
   "metadata": {},
   "outputs": [],
   "source": [
    "dt=dt.drop_duplicates()"
   ]
  },
  {
   "cell_type": "code",
   "execution_count": null,
   "metadata": {},
   "outputs": [],
   "source": [
    "dt.duplicated().sum()"
   ]
  },
  {
   "cell_type": "code",
   "execution_count": null,
   "metadata": {},
   "outputs": [],
   "source": [
    "dt.shape"
   ]
  },
  {
   "cell_type": "code",
   "execution_count": null,
   "metadata": {},
   "outputs": [],
   "source": [
    "dt=dt.drop(['City', 'CCSC', 'Zip'], axis=1)"
   ]
  },
  {
   "cell_type": "code",
   "execution_count": null,
   "metadata": {},
   "outputs": [],
   "source": [
    "sns.heatmap(dt.isnull(), yticklabels=False, cbar=False, cmap='viridis')"
   ]
  },
  {
   "cell_type": "code",
   "execution_count": null,
   "metadata": {},
   "outputs": [],
   "source": [
    "dt=dt.drop(['ChgOffDate'], axis=1)"
   ]
  },
  {
   "cell_type": "code",
   "execution_count": null,
   "metadata": {},
   "outputs": [],
   "source": [
    "dt.shape"
   ]
  },
  {
   "cell_type": "code",
   "execution_count": null,
   "metadata": {},
   "outputs": [],
   "source": [
    "dt.isnull().sum()"
   ]
  },
  {
   "cell_type": "code",
   "execution_count": null,
   "metadata": {},
   "outputs": [],
   "source": [
    "dt=dt.dropna()"
   ]
  },
  {
   "cell_type": "code",
   "execution_count": null,
   "metadata": {},
   "outputs": [],
   "source": [
    "dt.isnull().sum()"
   ]
  },
  {
   "cell_type": "code",
   "execution_count": null,
   "metadata": {},
   "outputs": [],
   "source": [
    "dt.shape"
   ]
  },
  {
   "cell_type": "code",
   "execution_count": null,
   "metadata": {},
   "outputs": [],
   "source": [
    "dt.info()"
   ]
  },
  {
   "cell_type": "code",
   "execution_count": null,
   "metadata": {},
   "outputs": [],
   "source": [
    "dt=dt.replace({'DisbursementGross': '[$,]',\n",
    "             'BalanceGross': '[$,]',\n",
    "             'ChgOffPrinGr':'[$,]',\n",
    "             'GrAppv': '[$,]',\n",
    "             'SBA_Appv':'[$,]'},\n",
    "              '', regex=True)"
   ]
  },
  {
   "cell_type": "code",
   "execution_count": null,
   "metadata": {},
   "outputs": [],
   "source": [
    "dt['DisbursementGross'].unique()"
   ]
  },
  {
   "cell_type": "code",
   "execution_count": null,
   "metadata": {},
   "outputs": [],
   "source": [
    "dt.dtypes"
   ]
  },
  {
   "cell_type": "code",
   "execution_count": null,
   "metadata": {},
   "outputs": [],
   "source": [
    "dt['DisbursementGross']=pd.to_numeric(dt['DisbursementGross'])"
   ]
  },
  {
   "cell_type": "code",
   "execution_count": null,
   "metadata": {},
   "outputs": [],
   "source": [
    "dt['DisbursementGross']=dt['DisbursementGross'].astype(int)"
   ]
  },
  {
   "cell_type": "code",
   "execution_count": null,
   "metadata": {},
   "outputs": [],
   "source": [
    "dt['BalanceGross']=pd.to_numeric(dt['BalanceGross'])"
   ]
  },
  {
   "cell_type": "code",
   "execution_count": null,
   "metadata": {},
   "outputs": [],
   "source": [
    "dt['BalanceGross']=dt['BalanceGross'].astype(int)"
   ]
  },
  {
   "cell_type": "code",
   "execution_count": null,
   "metadata": {},
   "outputs": [],
   "source": [
    "dt['ChgOffPrinGr']=pd.to_numeric(dt['ChgOffPrinGr'])"
   ]
  },
  {
   "cell_type": "code",
   "execution_count": null,
   "metadata": {},
   "outputs": [],
   "source": [
    "dt['ChgOffPrinGr']=dt['ChgOffPrinGr'].astype(int)"
   ]
  },
  {
   "cell_type": "code",
   "execution_count": null,
   "metadata": {},
   "outputs": [],
   "source": [
    "dt['GrAppv']=pd.to_numeric(dt['GrAppv'])"
   ]
  },
  {
   "cell_type": "code",
   "execution_count": null,
   "metadata": {},
   "outputs": [],
   "source": [
    "dt['GrAppv']=dt['GrAppv'].astype(int)"
   ]
  },
  {
   "cell_type": "code",
   "execution_count": null,
   "metadata": {},
   "outputs": [],
   "source": [
    "dt['SBA_Appv']=pd.to_numeric(dt['SBA_Appv'])"
   ]
  },
  {
   "cell_type": "code",
   "execution_count": null,
   "metadata": {},
   "outputs": [],
   "source": [
    "dt['SBA_Appv']=dt['SBA_Appv'].astype(int)"
   ]
  },
  {
   "cell_type": "code",
   "execution_count": null,
   "metadata": {},
   "outputs": [],
   "source": [
    "dt.dtypes"
   ]
  },
  {
   "cell_type": "code",
   "execution_count": null,
   "metadata": {},
   "outputs": [],
   "source": [
    "dt['RevLineCr'].unique()"
   ]
  },
  {
   "cell_type": "code",
   "execution_count": null,
   "metadata": {},
   "outputs": [],
   "source": [
    "dt['RevLineCr']=dt['RevLineCr'].replace('[0T`,1]', np.NaN, regex=True)"
   ]
  },
  {
   "cell_type": "code",
   "execution_count": null,
   "metadata": {},
   "outputs": [],
   "source": [
    "dt['RevLineCr'].unique()"
   ]
  },
  {
   "cell_type": "code",
   "execution_count": null,
   "metadata": {},
   "outputs": [],
   "source": [
    "dt['RevLineCr']=dt['RevLineCr'].fillna(dt['RevLineCr'].mode()[0])"
   ]
  },
  {
   "cell_type": "code",
   "execution_count": null,
   "metadata": {},
   "outputs": [],
   "source": [
    "dt['RevLineCr'].unique()"
   ]
  },
  {
   "cell_type": "code",
   "execution_count": null,
   "metadata": {},
   "outputs": [],
   "source": [
    "dt['LowDoc'].unique()"
   ]
  },
  {
   "cell_type": "code",
   "execution_count": null,
   "metadata": {},
   "outputs": [],
   "source": [
    "dt['LowDoc'].mode()[0]"
   ]
  },
  {
   "cell_type": "code",
   "execution_count": null,
   "metadata": {},
   "outputs": [],
   "source": [
    "dt['LowDoc'].value_counts()"
   ]
  },
  {
   "cell_type": "code",
   "execution_count": null,
   "metadata": {},
   "outputs": [],
   "source": [
    "dt['LowDoc']=dt['LowDoc'].replace('[C1]', 'N', regex=True)"
   ]
  },
  {
   "cell_type": "code",
   "execution_count": null,
   "metadata": {},
   "outputs": [],
   "source": [
    "dt['LowDoc'].value_counts()"
   ]
  },
  {
   "cell_type": "code",
   "execution_count": null,
   "metadata": {},
   "outputs": [],
   "source": [
    "dt['MIS_Status'].isnull().sum()"
   ]
  },
  {
   "cell_type": "code",
   "execution_count": null,
   "metadata": {},
   "outputs": [],
   "source": [
    "dt['MIS_Status'].unique()"
   ]
  },
  {
   "cell_type": "code",
   "execution_count": null,
   "metadata": {},
   "outputs": [],
   "source": [
    "dt['RevLineCr']=dt['RevLineCr'].map({'Y':int(1), 'N':int(0)})"
   ]
  },
  {
   "cell_type": "code",
   "execution_count": null,
   "metadata": {},
   "outputs": [],
   "source": [
    "dt['RevLineCr'].value_counts()"
   ]
  },
  {
   "cell_type": "code",
   "execution_count": null,
   "metadata": {},
   "outputs": [],
   "source": [
    "dt['LowDoc'].value_counts()"
   ]
  },
  {
   "cell_type": "code",
   "execution_count": null,
   "metadata": {},
   "outputs": [],
   "source": [
    "dt['LowDoc']=dt['LowDoc'].map({'Y':int(1), 'N':int(0)})"
   ]
  },
  {
   "cell_type": "code",
   "execution_count": null,
   "metadata": {},
   "outputs": [],
   "source": [
    "dt['LowDoc'].value_counts()"
   ]
  },
  {
   "cell_type": "code",
   "execution_count": null,
   "metadata": {},
   "outputs": [],
   "source": [
    "dt['MIS_Status']=dt['MIS_Status'].map({'P I F': int(1), 'CHGOFF': int(0)})"
   ]
  },
  {
   "cell_type": "code",
   "execution_count": null,
   "metadata": {},
   "outputs": [],
   "source": [
    "dt['MIS_Status'].value_counts()"
   ]
  },
  {
   "cell_type": "code",
   "execution_count": null,
   "metadata": {},
   "outputs": [],
   "source": [
    "dt.dtypes"
   ]
  },
  {
   "cell_type": "code",
   "execution_count": null,
   "metadata": {},
   "outputs": [],
   "source": [
    "dt['Term'].unique()"
   ]
  },
  {
   "cell_type": "code",
   "execution_count": null,
   "metadata": {},
   "outputs": [],
   "source": [
    "dt['Term'].value_counts()"
   ]
  },
  {
   "cell_type": "code",
   "execution_count": null,
   "metadata": {},
   "outputs": [],
   "source": [
    "dt['Term'] = np.where(dt['Term'] >250 , dt['Term'].mode()[0], dt['Term'])"
   ]
  },
  {
   "cell_type": "code",
   "execution_count": null,
   "metadata": {},
   "outputs": [],
   "source": [
    "dt['Term'] = np.where(dt['Term'] < 12, 36, dt['Term'])"
   ]
  },
  {
   "cell_type": "code",
   "execution_count": null,
   "metadata": {},
   "outputs": [],
   "source": [
    "dt['NoEmp'].describe()"
   ]
  },
  {
   "cell_type": "code",
   "execution_count": null,
   "metadata": {},
   "outputs": [],
   "source": [
    "dt['NoEmp'].value_counts()"
   ]
  },
  {
   "cell_type": "code",
   "execution_count": 77,
   "metadata": {},
   "outputs": [],
   "source": [
    "dt['NoEmp'] = np.where(dt['NoEmp'] >20 , 15, dt['NoEmp'])"
   ]
  },
  {
   "cell_type": "code",
   "execution_count": 78,
   "metadata": {},
   "outputs": [
    {
     "data": {
      "text/plain": [
       "count    148785.000000\n",
       "mean          1.282360\n",
       "std          10.991817\n",
       "min           0.000000\n",
       "25%           0.000000\n",
       "50%           0.000000\n",
       "75%           0.000000\n",
       "max        3000.000000\n",
       "Name: CreateJob, dtype: float64"
      ]
     },
     "execution_count": 78,
     "metadata": {},
     "output_type": "execute_result"
    }
   ],
   "source": [
    "dt['CreateJob'].describe()"
   ]
  },
  {
   "cell_type": "code",
   "execution_count": 79,
   "metadata": {},
   "outputs": [],
   "source": [
    "dt['CreateJob'] = np.where(dt['CreateJob'] > 8 , 0, dt['CreateJob'])"
   ]
  },
  {
   "cell_type": "code",
   "execution_count": 80,
   "metadata": {},
   "outputs": [
    {
     "data": {
      "text/plain": [
       "0      65456\n",
       "1      18444\n",
       "2      15359\n",
       "3      10179\n",
       "4       7983\n",
       "       ...  \n",
       "230        1\n",
       "104        1\n",
       "165        1\n",
       "233        1\n",
       "220        1\n",
       "Name: RetainedJob, Length: 167, dtype: int64"
      ]
     },
     "execution_count": 80,
     "metadata": {},
     "output_type": "execute_result"
    }
   ],
   "source": [
    "dt['RetainedJob'].value_counts()"
   ]
  },
  {
   "cell_type": "code",
   "execution_count": 81,
   "metadata": {},
   "outputs": [],
   "source": [
    "dt['RetainedJob'] = np.where(dt['RetainedJob'] > 46, dt['RetainedJob'].mode(),dt['RetainedJob'])"
   ]
  },
  {
   "cell_type": "markdown",
   "metadata": {},
   "source": [
    "# Handling outliers"
   ]
  },
  {
   "cell_type": "code",
   "execution_count": 82,
   "metadata": {},
   "outputs": [
    {
     "data": {
      "text/plain": [
       "(array([1.15027e+05, 1.78010e+04, 6.52900e+03, 3.74300e+03, 2.10700e+03,\n",
       "        1.09100e+03, 1.17400e+03, 4.17000e+02, 2.63000e+02, 2.37000e+02,\n",
       "        1.23000e+02, 7.00000e+01, 1.55000e+02, 1.70000e+01, 9.00000e+00,\n",
       "        4.00000e+00, 3.00000e+00, 5.00000e+00, 2.00000e+00, 1.00000e+00,\n",
       "        2.00000e+00, 1.00000e+00, 1.00000e+00, 0.00000e+00, 3.00000e+00]),\n",
       " array([4.0000000e+03, 1.6502080e+05, 3.2604160e+05, 4.8706240e+05,\n",
       "        6.4808320e+05, 8.0910400e+05, 9.7012480e+05, 1.1311456e+06,\n",
       "        1.2921664e+06, 1.4531872e+06, 1.6142080e+06, 1.7752288e+06,\n",
       "        1.9362496e+06, 2.0972704e+06, 2.2582912e+06, 2.4193120e+06,\n",
       "        2.5803328e+06, 2.7413536e+06, 2.9023744e+06, 3.0633952e+06,\n",
       "        3.2244160e+06, 3.3854368e+06, 3.5464576e+06, 3.7074784e+06,\n",
       "        3.8684992e+06, 4.0295200e+06]),\n",
       " <BarContainer object of 25 artists>)"
      ]
     },
     "execution_count": 82,
     "metadata": {},
     "output_type": "execute_result"
    },
    {
     "data": {
      "image/png": "[encoded data removed]",
      "text/plain": [
       "<Figure size 432x288 with 1 Axes>"
      ]
     },
     "metadata": {
      "needs_background": "light"
     },
     "output_type": "display_data"
    }
   ],
   "source": [
    "plt.hist(dt['DisbursementGross'], bins=25)"
   ]
  },
  {
   "cell_type": "code",
   "execution_count": 83,
   "metadata": {},
   "outputs": [
    {
     "data": {
      "text/plain": [
       "count    1.487850e+05\n",
       "mean     1.420611e+05\n",
       "std      2.190133e+05\n",
       "min      4.000000e+03\n",
       "25%      3.000000e+04\n",
       "50%      6.649600e+04\n",
       "75%      1.500000e+05\n",
       "max      4.029520e+06\n",
       "Name: DisbursementGross, dtype: float64"
      ]
     },
     "execution_count": 83,
     "metadata": {},
     "output_type": "execute_result"
    }
   ],
   "source": [
    "dt['DisbursementGross'].describe()"
   ]
  },
  {
   "cell_type": "code",
   "execution_count": 84,
   "metadata": {},
   "outputs": [
    {
     "data": {
      "text/plain": [
       "<AxesSubplot:xlabel='DisbursementGross'>"
      ]
     },
     "execution_count": 84,
     "metadata": {},
     "output_type": "execute_result"
    },
    {
     "data": {
      "image/png": "[encoded data removed]",
      "text/plain": [
       "<Figure size 432x288 with 1 Axes>"
      ]
     },
     "metadata": {
      "needs_background": "light"
     },
     "output_type": "display_data"
    }
   ],
   "source": [
    "sns.boxplot(x=dt['DisbursementGross'])"
   ]
  },
  {
   "cell_type": "code",
   "execution_count": 85,
   "metadata": {},
   "outputs": [
    {
     "data": {
      "text/plain": [
       "50000     10198\n",
       "25000      6978\n",
       "100000     6964\n",
       "10000      5600\n",
       "35000      3089\n",
       "          ...  \n",
       "86523         1\n",
       "166400        1\n",
       "299587        1\n",
       "43588         1\n",
       "284683        1\n",
       "Name: DisbursementGross, Length: 38221, dtype: int64"
      ]
     },
     "execution_count": 85,
     "metadata": {},
     "output_type": "execute_result"
    }
   ],
   "source": [
    "dt['DisbursementGross'].value_counts()"
   ]
  },
  {
   "cell_type": "code",
   "execution_count": 86,
   "metadata": {},
   "outputs": [],
   "source": [
    "dt['DisbursementGross'] = np.where(dt['DisbursementGross'] >200000 , \n",
    "                                    dt['DisbursementGross'].mode()[0], dt['DisbursementGross'])"
   ]
  },
  {
   "cell_type": "code",
   "execution_count": 87,
   "metadata": {},
   "outputs": [],
   "source": [
    "dt['DisbursementGross'] = np.where(dt['DisbursementGross'] < 5000 , \n",
    "                                    dt['DisbursementGross'].mode()[0], dt['DisbursementGross'])\n"
   ]
  },
  {
   "cell_type": "code",
   "execution_count": 88,
   "metadata": {},
   "outputs": [
    {
     "data": {
      "text/plain": [
       "count    148785.000000\n",
       "mean      62035.118406\n",
       "std       44043.663808\n",
       "min        5000.000000\n",
       "25%       30000.000000\n",
       "50%       50000.000000\n",
       "75%       81539.000000\n",
       "max      200000.000000\n",
       "Name: DisbursementGross, dtype: float64"
      ]
     },
     "execution_count": 88,
     "metadata": {},
     "output_type": "execute_result"
    }
   ],
   "source": [
    "dt['DisbursementGross'].describe()"
   ]
  },
  {
   "cell_type": "code",
   "execution_count": 89,
   "metadata": {},
   "outputs": [
    {
     "data": {
      "text/plain": [
       "50000     37988\n",
       "25000      6978\n",
       "100000     6964\n",
       "10000      5600\n",
       "35000      3089\n",
       "          ...  \n",
       "72818         1\n",
       "81014         1\n",
       "144535        1\n",
       "152731        1\n",
       "24588         1\n",
       "Name: DisbursementGross, Length: 30804, dtype: int64"
      ]
     },
     "execution_count": 89,
     "metadata": {},
     "output_type": "execute_result"
    }
   ],
   "source": [
    "dt['DisbursementGross'].value_counts()"
   ]
  },
  {
   "cell_type": "code",
   "execution_count": 90,
   "metadata": {},
   "outputs": [
    {
     "data": {
      "text/plain": [
       "count    1.487850e+05\n",
       "mean     1.282839e+05\n",
       "std      2.146897e+05\n",
       "min      1.000000e+03\n",
       "25%      2.500000e+04\n",
       "50%      5.000000e+04\n",
       "75%      1.200000e+05\n",
       "max      4.000000e+06\n",
       "Name: GrAppv, dtype: float64"
      ]
     },
     "execution_count": 90,
     "metadata": {},
     "output_type": "execute_result"
    }
   ],
   "source": [
    "dt['GrAppv'].describe()"
   ]
  },
  {
   "cell_type": "code",
   "execution_count": 91,
   "metadata": {},
   "outputs": [
    {
     "data": {
      "text/plain": [
       "50000      17457\n",
       "25000      13213\n",
       "10000      12513\n",
       "100000     11090\n",
       "20000       5421\n",
       "           ...  \n",
       "909830         1\n",
       "1217000        1\n",
       "266680         1\n",
       "1266000        1\n",
       "153525         1\n",
       "Name: GrAppv, Length: 5963, dtype: int64"
      ]
     },
     "execution_count": 91,
     "metadata": {},
     "output_type": "execute_result"
    }
   ],
   "source": [
    "dt['GrAppv'].value_counts()"
   ]
  },
  {
   "cell_type": "code",
   "execution_count": 92,
   "metadata": {},
   "outputs": [
    {
     "data": {
      "text/plain": [
       "<AxesSubplot:xlabel='GrAppv'>"
      ]
     },
     "execution_count": 92,
     "metadata": {},
     "output_type": "execute_result"
    },
    {
     "data": {
      "image/png": "[encoded data removed]",
      "text/plain": [
       "<Figure size 432x288 with 1 Axes>"
      ]
     },
     "metadata": {
      "needs_background": "light"
     },
     "output_type": "display_data"
    }
   ],
   "source": [
    "sns.boxplot(x=dt['GrAppv'])"
   ]
  },
  {
   "cell_type": "code",
   "execution_count": 93,
   "metadata": {},
   "outputs": [],
   "source": [
    "dt['GrAppv'] = np.where(dt['GrAppv'] > 200000, dt['GrAppv'].mode()[0], dt['GrAppv'])"
   ]
  },
  {
   "cell_type": "code",
   "execution_count": 94,
   "metadata": {},
   "outputs": [],
   "source": [
    "dt['GrAppv'] = np.where(dt['GrAppv'] < 5000 , dt['GrAppv'].mode()[0], dt['GrAppv'])"
   ]
  },
  {
   "cell_type": "code",
   "execution_count": 95,
   "metadata": {},
   "outputs": [
    {
     "data": {
      "text/plain": [
       "(array([17309., 11743., 15774., 11041.,  4412., 44747.,  1809.,  3558.,\n",
       "         5634.,  2229.,  2477.,  1487., 11945.,   847.,  1178.,  1367.,\n",
       "         1141.,  1077.,  2954.,   872.,   697.,  1041.,   713.,   720.,\n",
       "         2013.]),\n",
       " array([  5000.,  12800.,  20600.,  28400.,  36200.,  44000.,  51800.,\n",
       "         59600.,  67400.,  75200.,  83000.,  90800.,  98600., 106400.,\n",
       "        114200., 122000., 129800., 137600., 145400., 153200., 161000.,\n",
       "        168800., 176600., 184400., 192200., 200000.]),\n",
       " <BarContainer object of 25 artists>)"
      ]
     },
     "execution_count": 95,
     "metadata": {},
     "output_type": "execute_result"
    },
    {
     "data": {
      "image/png": "[encoded data removed]",
      "text/plain": [
       "<Figure size 432x288 with 1 Axes>"
      ]
     },
     "metadata": {
      "needs_background": "light"
     },
     "output_type": "display_data"
    }
   ],
   "source": [
    "plt.hist(dt['GrAppv'], bins=25)"
   ]
  },
  {
   "cell_type": "code",
   "execution_count": 96,
   "metadata": {},
   "outputs": [
    {
     "data": {
      "text/plain": [
       "count    1.487850e+05\n",
       "mean     9.288718e+04\n",
       "std      1.667499e+05\n",
       "min      5.000000e+02\n",
       "25%      1.250000e+04\n",
       "50%      2.500000e+04\n",
       "75%      8.100000e+04\n",
       "max      4.000000e+06\n",
       "Name: SBA_Appv, dtype: float64"
      ]
     },
     "execution_count": 96,
     "metadata": {},
     "output_type": "execute_result"
    }
   ],
   "source": [
    "dt['SBA_Appv'].describe()"
   ]
  },
  {
   "cell_type": "code",
   "execution_count": 97,
   "metadata": {},
   "outputs": [
    {
     "data": {
      "text/plain": [
       "25000     15026\n",
       "5000      11827\n",
       "12500     10785\n",
       "50000      7742\n",
       "10000      4646\n",
       "          ...  \n",
       "62250         1\n",
       "56111         1\n",
       "35150         1\n",
       "749873        1\n",
       "151650        1\n",
       "Name: SBA_Appv, Length: 8184, dtype: int64"
      ]
     },
     "execution_count": 97,
     "metadata": {},
     "output_type": "execute_result"
    }
   ],
   "source": [
    "dt['SBA_Appv'].value_counts()"
   ]
  },
  {
   "cell_type": "code",
   "execution_count": 98,
   "metadata": {},
   "outputs": [
    {
     "data": {
      "text/plain": [
       "<AxesSubplot:xlabel='SBA_Appv'>"
      ]
     },
     "execution_count": 98,
     "metadata": {},
     "output_type": "execute_result"
    },
    {
     "data": {
      "image/png": "[encoded data removed]",
      "text/plain": [
       "<Figure size 432x288 with 1 Axes>"
      ]
     },
     "metadata": {
      "needs_background": "light"
     },
     "output_type": "display_data"
    }
   ],
   "source": [
    "sns.boxplot(x=dt['SBA_Appv'])"
   ]
  },
  {
   "cell_type": "code",
   "execution_count": 99,
   "metadata": {},
   "outputs": [
    {
     "data": {
      "text/plain": [
       "(array([1.25534e+05, 1.19490e+04, 5.01400e+03, 2.71100e+03, 2.44300e+03,\n",
       "        3.51000e+02, 3.49000e+02, 1.60000e+02, 8.00000e+01, 1.37000e+02,\n",
       "        1.50000e+01, 1.20000e+01, 2.50000e+01, 1.00000e+00, 0.00000e+00,\n",
       "        0.00000e+00, 0.00000e+00, 1.00000e+00, 0.00000e+00, 0.00000e+00,\n",
       "        2.00000e+00, 0.00000e+00, 0.00000e+00, 0.00000e+00, 1.00000e+00]),\n",
       " array([5.00000e+02, 1.60480e+05, 3.20460e+05, 4.80440e+05, 6.40420e+05,\n",
       "        8.00400e+05, 9.60380e+05, 1.12036e+06, 1.28034e+06, 1.44032e+06,\n",
       "        1.60030e+06, 1.76028e+06, 1.92026e+06, 2.08024e+06, 2.24022e+06,\n",
       "        2.40020e+06, 2.56018e+06, 2.72016e+06, 2.88014e+06, 3.04012e+06,\n",
       "        3.20010e+06, 3.36008e+06, 3.52006e+06, 3.68004e+06, 3.84002e+06,\n",
       "        4.00000e+06]),\n",
       " <BarContainer object of 25 artists>)"
      ]
     },
     "execution_count": 99,
     "metadata": {},
     "output_type": "execute_result"
    },
    {
     "data": {
      "image/png": "[encoded data removed]",
      "text/plain": [
       "<Figure size 432x288 with 1 Axes>"
      ]
     },
     "metadata": {
      "needs_background": "light"
     },
     "output_type": "display_data"
    }
   ],
   "source": [
    "plt.hist(dt['SBA_Appv'], bins=25)"
   ]
  },
  {
   "cell_type": "code",
   "execution_count": 100,
   "metadata": {},
   "outputs": [
    {
     "data": {
      "text/plain": [
       "25000"
      ]
     },
     "execution_count": 100,
     "metadata": {},
     "output_type": "execute_result"
    }
   ],
   "source": [
    "dt['SBA_Appv'].mode()[0]"
   ]
  },
  {
   "cell_type": "code",
   "execution_count": 101,
   "metadata": {},
   "outputs": [],
   "source": [
    "dt['SBA_Appv'] = np.where(dt['SBA_Appv'] > 175000 , dt['SBA_Appv'].mode()[0], dt['SBA_Appv'])"
   ]
  },
  {
   "cell_type": "code",
   "execution_count": 102,
   "metadata": {},
   "outputs": [],
   "source": [
    "dt['SBA_Appv'] = np.where(dt['SBA_Appv'] <5000 , dt['SBA_Appv'].mode()[0], dt['SBA_Appv'])"
   ]
  },
  {
   "cell_type": "code",
   "execution_count": 103,
   "metadata": {},
   "outputs": [
    {
     "data": {
      "text/plain": [
       "(array([24311., 23112., 48666.,  4228.,  5618.,  5193., 10141.,  1639.,\n",
       "         2737.,  1790.,  2755.,  3910.,  1126.,  1674.,  1035.,  1638.,\n",
       "         1113.,  1201.,  1354.,   913.,   638.,  1651.,   705.,   570.,\n",
       "         1067.]),\n",
       " array([  5000.,  11800.,  18600.,  25400.,  32200.,  39000.,  45800.,\n",
       "         52600.,  59400.,  66200.,  73000.,  79800.,  86600.,  93400.,\n",
       "        100200., 107000., 113800., 120600., 127400., 134200., 141000.,\n",
       "        147800., 154600., 161400., 168200., 175000.]),\n",
       " <BarContainer object of 25 artists>)"
      ]
     },
     "execution_count": 103,
     "metadata": {},
     "output_type": "execute_result"
    },
    {
     "data": {
      "image/png": "[encoded data removed]",
      "text/plain": [
       "<Figure size 432x288 with 1 Axes>"
      ]
     },
     "metadata": {
      "needs_background": "light"
     },
     "output_type": "display_data"
    }
   ],
   "source": [
    "plt.hist(dt['SBA_Appv'], bins=25)"
   ]
  },
  {
   "cell_type": "code",
   "execution_count": 104,
   "metadata": {},
   "outputs": [
    {
     "data": {
      "text/plain": [
       "Name                 object\n",
       "State                object\n",
       "Bank                 object\n",
       "BankState            object\n",
       "ApprovalDate         object\n",
       "ApprovalFY            int64\n",
       "Term                  int64\n",
       "NoEmp                 int64\n",
       "NewExist              int64\n",
       "CreateJob             int64\n",
       "RetainedJob           int64\n",
       "FranchiseCode         int64\n",
       "UrbanRural            int64\n",
       "RevLineCr             int64\n",
       "LowDoc                int64\n",
       "DisbursementDate     object\n",
       "DisbursementGross     int32\n",
       "BalanceGross          int32\n",
       "MIS_Status            int64\n",
       "ChgOffPrinGr          int32\n",
       "GrAppv                int32\n",
       "SBA_Appv              int32\n",
       "dtype: object"
      ]
     },
     "execution_count": 104,
     "metadata": {},
     "output_type": "execute_result"
    }
   ],
   "source": [
    "dt.dtypes"
   ]
  },
  {
   "cell_type": "markdown",
   "metadata": {},
   "source": [
    "# Handling DATE Column outliers"
   ]
  },
  {
   "cell_type": "code",
   "execution_count": 105,
   "metadata": {},
   "outputs": [],
   "source": [
    "dt['ApprovalDate']=pd.to_datetime(dt['ApprovalDate'])"
   ]
  },
  {
   "cell_type": "code",
   "execution_count": 106,
   "metadata": {},
   "outputs": [
    {
     "data": {
      "text/plain": [
       "(array([2.4000e+01, 0.0000e+00, 0.0000e+00, 0.0000e+00, 1.9000e+01,\n",
       "        1.2100e+02, 4.0700e+02, 6.6500e+02, 2.3370e+03, 1.2090e+03,\n",
       "        0.0000e+00, 0.0000e+00, 0.0000e+00, 0.0000e+00, 0.0000e+00,\n",
       "        0.0000e+00, 0.0000e+00, 1.0000e+00, 4.4579e+04, 1.9560e+03,\n",
       "        3.5000e+01, 9.8000e+01, 3.8600e+02, 2.5700e+04, 7.1248e+04]),\n",
       " array([  558.  ,  1073.72,  1589.44,  2105.16,  2620.88,  3136.6 ,\n",
       "         3652.32,  4168.04,  4683.76,  5199.48,  5715.2 ,  6230.92,\n",
       "         6746.64,  7262.36,  7778.08,  8293.8 ,  8809.52,  9325.24,\n",
       "         9840.96, 10356.68, 10872.4 , 11388.12, 11903.84, 12419.56,\n",
       "        12935.28, 13451.  ]),\n",
       " <BarContainer object of 25 artists>)"
      ]
     },
     "execution_count": 106,
     "metadata": {},
     "output_type": "execute_result"
    },
    {
     "data": {
      "image/png": "[encoded data removed]",
      "text/plain": [
       "<Figure size 432x288 with 1 Axes>"
      ]
     },
     "metadata": {
      "needs_background": "light"
     },
     "output_type": "display_data"
    }
   ],
   "source": [
    "plt.hist(dt['ApprovalDate'], bins=25)"
   ]
  },
  {
   "cell_type": "code",
   "execution_count": 107,
   "metadata": {},
   "outputs": [],
   "source": [
    "dt['ApprovalDate']=np.where(dt['ApprovalDate'] < '1997', dt['ApprovalDate'].mode(), dt['ApprovalDate'])"
   ]
  },
  {
   "cell_type": "code",
   "execution_count": 108,
   "metadata": {},
   "outputs": [],
   "source": [
    "dt['ApprovalDate']=np.where(dt['ApprovalDate'] > '2007', dt['ApprovalDate'].mode(), dt['ApprovalDate'])"
   ]
  },
  {
   "cell_type": "code",
   "execution_count": 109,
   "metadata": {},
   "outputs": [
    {
     "data": {
      "text/plain": [
       "(array([1.5684e+04, 1.8821e+04, 1.3551e+04, 3.2140e+03, 2.4000e+01,\n",
       "        1.4000e+01, 1.1000e+01, 1.2000e+01, 1.6000e+01, 6.0000e+00,\n",
       "        2.5000e+01, 7.3000e+01, 0.0000e+00, 0.0000e+00, 9.0000e+00,\n",
       "        9.9000e+01, 1.4300e+02, 1.7300e+02, 7.9400e+02, 7.6660e+03,\n",
       "        1.2905e+04, 1.3721e+04, 1.4742e+04, 2.9449e+04, 1.7633e+04]),\n",
       " array([ 9920.  , 10061.24, 10202.48, 10343.72, 10484.96, 10626.2 ,\n",
       "        10767.44, 10908.68, 11049.92, 11191.16, 11332.4 , 11473.64,\n",
       "        11614.88, 11756.12, 11897.36, 12038.6 , 12179.84, 12321.08,\n",
       "        12462.32, 12603.56, 12744.8 , 12886.04, 13027.28, 13168.52,\n",
       "        13309.76, 13451.  ]),\n",
       " <BarContainer object of 25 artists>)"
      ]
     },
     "execution_count": 109,
     "metadata": {},
     "output_type": "execute_result"
    },
    {
     "data": {
      "image/png": "[encoded data removed]",
      "text/plain": [
       "<Figure size 432x288 with 1 Axes>"
      ]
     },
     "metadata": {
      "needs_background": "light"
     },
     "output_type": "display_data"
    }
   ],
   "source": [
    "plt.hist(dt['ApprovalDate'], bins=25)"
   ]
  },
  {
   "cell_type": "code",
   "execution_count": 110,
   "metadata": {},
   "outputs": [
    {
     "data": {
      "text/plain": [
       "1997-09-30    5249\n",
       "2006-03-17     421\n",
       "2006-03-24     419\n",
       "1997-04-01     418\n",
       "2006-03-31     407\n",
       "              ... \n",
       "2004-05-13       1\n",
       "1998-09-23       1\n",
       "2000-08-15       1\n",
       "2003-09-15       1\n",
       "1998-09-10       1\n",
       "Name: ApprovalDate, Length: 1393, dtype: int64"
      ]
     },
     "execution_count": 110,
     "metadata": {},
     "output_type": "execute_result"
    }
   ],
   "source": [
    "dt['ApprovalDate'].value_counts()"
   ]
  },
  {
   "cell_type": "code",
   "execution_count": 111,
   "metadata": {},
   "outputs": [
    {
     "data": {
      "text/plain": [
       "2006    55017\n",
       "2005    32995\n",
       "1997    23796\n",
       "1998    22699\n",
       "2004     5542\n",
       "2007     3525\n",
       "1984     1923\n",
       "1983     1541\n",
       "1982      515\n",
       "1981      368\n",
       "2003      255\n",
       "1985      148\n",
       "1980      129\n",
       "2001      100\n",
       "1979       97\n",
       "1999       40\n",
       "1978       37\n",
       "2000       34\n",
       "1972       21\n",
       "1973        3\n",
       "Name: ApprovalFY, dtype: int64"
      ]
     },
     "execution_count": 111,
     "metadata": {},
     "output_type": "execute_result"
    }
   ],
   "source": [
    "dt['ApprovalFY'].value_counts()"
   ]
  },
  {
   "cell_type": "code",
   "execution_count": 112,
   "metadata": {},
   "outputs": [],
   "source": [
    "dt['ApprovalFY']=np.where(dt['ApprovalFY'] < 1997, dt['ApprovalFY'].mode(), dt['ApprovalFY'])"
   ]
  },
  {
   "cell_type": "code",
   "execution_count": 113,
   "metadata": {},
   "outputs": [],
   "source": [
    "dt['ApprovalFY']=np.where(dt['ApprovalFY'] > 2006, dt['ApprovalFY'].mode(), dt['ApprovalFY'])"
   ]
  },
  {
   "cell_type": "code",
   "execution_count": 114,
   "metadata": {},
   "outputs": [
    {
     "data": {
      "text/plain": [
       "(array([2.3796e+04, 0.0000e+00, 2.2699e+04, 0.0000e+00, 0.0000e+00,\n",
       "        4.0000e+01, 0.0000e+00, 0.0000e+00, 3.4000e+01, 0.0000e+00,\n",
       "        0.0000e+00, 1.0000e+02, 0.0000e+00, 0.0000e+00, 0.0000e+00,\n",
       "        0.0000e+00, 2.5500e+02, 0.0000e+00, 0.0000e+00, 5.5420e+03,\n",
       "        0.0000e+00, 0.0000e+00, 3.2995e+04, 0.0000e+00, 6.3324e+04]),\n",
       " array([1997.  , 1997.36, 1997.72, 1998.08, 1998.44, 1998.8 , 1999.16,\n",
       "        1999.52, 1999.88, 2000.24, 2000.6 , 2000.96, 2001.32, 2001.68,\n",
       "        2002.04, 2002.4 , 2002.76, 2003.12, 2003.48, 2003.84, 2004.2 ,\n",
       "        2004.56, 2004.92, 2005.28, 2005.64, 2006.  ]),\n",
       " <BarContainer object of 25 artists>)"
      ]
     },
     "execution_count": 114,
     "metadata": {},
     "output_type": "execute_result"
    },
    {
     "data": {
      "image/png": "[encoded data removed]",
      "text/plain": [
       "<Figure size 432x288 with 1 Axes>"
      ]
     },
     "metadata": {
      "needs_background": "light"
     },
     "output_type": "display_data"
    }
   ],
   "source": [
    "plt.hist(dt['ApprovalFY'], bins=25)"
   ]
  },
  {
   "cell_type": "code",
   "execution_count": 115,
   "metadata": {},
   "outputs": [
    {
     "data": {
      "text/plain": [
       "2006    63324\n",
       "2005    32995\n",
       "1997    23796\n",
       "1998    22699\n",
       "2004     5542\n",
       "2003      255\n",
       "2001      100\n",
       "1999       40\n",
       "2000       34\n",
       "Name: ApprovalFY, dtype: int64"
      ]
     },
     "execution_count": 115,
     "metadata": {},
     "output_type": "execute_result"
    }
   ],
   "source": [
    "dt['ApprovalFY'].value_counts()"
   ]
  },
  {
   "cell_type": "code",
   "execution_count": 116,
   "metadata": {},
   "outputs": [],
   "source": [
    "dt['DisbursementDate']=pd.to_datetime(dt['DisbursementDate'])"
   ]
  },
  {
   "cell_type": "code",
   "execution_count": 117,
   "metadata": {},
   "outputs": [
    {
     "data": {
      "text/plain": [
       "(array([2.4000e+01, 0.0000e+00, 2.3100e+02, 1.7840e+03, 2.7320e+03,\n",
       "        1.0000e+01, 0.0000e+00, 1.0000e+00, 4.3821e+04, 2.7000e+03,\n",
       "        2.3986e+04, 7.2085e+04, 1.3990e+03, 1.1000e+01, 0.0000e+00,\n",
       "        0.0000e+00, 0.0000e+00, 0.0000e+00, 0.0000e+00, 0.0000e+00,\n",
       "        0.0000e+00, 0.0000e+00, 0.0000e+00, 0.0000e+00, 1.0000e+00]),\n",
       " array([  571.  ,  1698.12,  2825.24,  3952.36,  5079.48,  6206.6 ,\n",
       "         7333.72,  8460.84,  9587.96, 10715.08, 11842.2 , 12969.32,\n",
       "        14096.44, 15223.56, 16350.68, 17477.8 , 18604.92, 19732.04,\n",
       "        20859.16, 21986.28, 23113.4 , 24240.52, 25367.64, 26494.76,\n",
       "        27621.88, 28749.  ]),\n",
       " <BarContainer object of 25 artists>)"
      ]
     },
     "execution_count": 117,
     "metadata": {},
     "output_type": "execute_result"
    },
    {
     "data": {
      "image/png": "[encoded data removed]",
      "text/plain": [
       "<Figure size 432x288 with 1 Axes>"
      ]
     },
     "metadata": {
      "needs_background": "light"
     },
     "output_type": "display_data"
    }
   ],
   "source": [
    "plt.hist(dt['DisbursementDate'], bins=25)"
   ]
  },
  {
   "cell_type": "code",
   "execution_count": 118,
   "metadata": {},
   "outputs": [
    {
     "data": {
      "text/plain": [
       "Timestamp('2006-05-31 00:00:00')"
      ]
     },
     "execution_count": 118,
     "metadata": {},
     "output_type": "execute_result"
    }
   ],
   "source": [
    "#dt['DisbursementDate'].value_counts()\n",
    "dt['DisbursementDate'].mode()[0]"
   ]
  },
  {
   "cell_type": "code",
   "execution_count": 119,
   "metadata": {},
   "outputs": [],
   "source": [
    "dt['DisbursementDate']=np.where(dt['DisbursementDate'] < '1997', dt['DisbursementDate'].mode(), dt['DisbursementDate'])"
   ]
  },
  {
   "cell_type": "code",
   "execution_count": 120,
   "metadata": {},
   "outputs": [],
   "source": [
    "dt['DisbursementDate']=np.where(dt['DisbursementDate'] > '2006', dt['DisbursementDate'].mode(), dt['DisbursementDate'])"
   ]
  },
  {
   "cell_type": "code",
   "execution_count": 121,
   "metadata": {},
   "outputs": [
    {
     "data": {
      "text/plain": [
       "(array([2.8040e+03, 1.2765e+04, 1.0782e+04, 1.2184e+04, 3.1400e+03,\n",
       "        2.1450e+03, 1.0850e+03, 5.0200e+02, 3.0600e+02, 3.6000e+02,\n",
       "        1.3500e+02, 1.5300e+02, 9.5000e+01, 5.3000e+01, 7.3000e+01,\n",
       "        6.8000e+01, 1.0800e+02, 9.1000e+01, 1.7800e+02, 3.3600e+02,\n",
       "        6.2220e+03, 9.0420e+03, 1.3521e+04, 1.2289e+04, 6.0348e+04]),\n",
       " array([ 9906.  , 10041.72, 10177.44, 10313.16, 10448.88, 10584.6 ,\n",
       "        10720.32, 10856.04, 10991.76, 11127.48, 11263.2 , 11398.92,\n",
       "        11534.64, 11670.36, 11806.08, 11941.8 , 12077.52, 12213.24,\n",
       "        12348.96, 12484.68, 12620.4 , 12756.12, 12891.84, 13027.56,\n",
       "        13163.28, 13299.  ]),\n",
       " <BarContainer object of 25 artists>)"
      ]
     },
     "execution_count": 121,
     "metadata": {},
     "output_type": "execute_result"
    },
    {
     "data": {
      "image/png": "[encoded data removed]",
      "text/plain": [
       "<Figure size 432x288 with 1 Axes>"
      ]
     },
     "metadata": {
      "needs_background": "light"
     },
     "output_type": "display_data"
    }
   ],
   "source": [
    "plt.hist(dt['DisbursementDate'], bins=25)"
   ]
  },
  {
   "cell_type": "code",
   "execution_count": 122,
   "metadata": {},
   "outputs": [
    {
     "data": {
      "text/plain": [
       "count    1.487850e+05\n",
       "mean     1.507230e+04\n",
       "std      5.709595e+04\n",
       "min      0.000000e+00\n",
       "25%      0.000000e+00\n",
       "50%      0.000000e+00\n",
       "75%      6.318000e+03\n",
       "max      1.999999e+06\n",
       "Name: ChgOffPrinGr, dtype: float64"
      ]
     },
     "execution_count": 122,
     "metadata": {},
     "output_type": "execute_result"
    }
   ],
   "source": [
    "dt['ChgOffPrinGr'].describe()"
   ]
  },
  {
   "cell_type": "code",
   "execution_count": 123,
   "metadata": {},
   "outputs": [],
   "source": [
    "dt['ChgOffPrinGr'] = np.where(dt['ChgOffPrinGr'] > 74971 , dt['ChgOffPrinGr'].mode()[0], dt['ChgOffPrinGr'])"
   ]
  },
  {
   "cell_type": "code",
   "execution_count": 124,
   "metadata": {},
   "outputs": [],
   "source": [
    "dt=dt.rename(columns={'ChgOffPrinGr':'Chg_Off_Amt'})"
   ]
  },
  {
   "cell_type": "code",
   "execution_count": 125,
   "metadata": {},
   "outputs": [
    {
     "data": {
      "text/plain": [
       "Name                         object\n",
       "State                        object\n",
       "Bank                         object\n",
       "BankState                    object\n",
       "ApprovalDate         datetime64[ns]\n",
       "ApprovalFY                    int64\n",
       "Term                          int64\n",
       "NoEmp                         int64\n",
       "NewExist                      int64\n",
       "CreateJob                     int64\n",
       "RetainedJob                   int64\n",
       "FranchiseCode                 int64\n",
       "UrbanRural                    int64\n",
       "RevLineCr                     int64\n",
       "LowDoc                        int64\n",
       "DisbursementDate     datetime64[ns]\n",
       "DisbursementGross             int32\n",
       "BalanceGross                  int32\n",
       "MIS_Status                    int64\n",
       "Chg_Off_Amt                   int32\n",
       "GrAppv                        int32\n",
       "SBA_Appv                      int32\n",
       "dtype: object"
      ]
     },
     "execution_count": 125,
     "metadata": {},
     "output_type": "execute_result"
    }
   ],
   "source": [
    "dt.dtypes"
   ]
  },
  {
   "cell_type": "code",
   "execution_count": 126,
   "metadata": {},
   "outputs": [],
   "source": [
    "dt['UrbanRural']=dt['UrbanRural'].map({ 0: 'Undefined', 1: 'Urban', 2: 'Rural'})"
   ]
  },
  {
   "cell_type": "code",
   "execution_count": 127,
   "metadata": {},
   "outputs": [
    {
     "data": {
      "text/plain": [
       "Urban        81030\n",
       "Undefined    51211\n",
       "Rural        16544\n",
       "Name: UrbanRural, dtype: int64"
      ]
     },
     "execution_count": 127,
     "metadata": {},
     "output_type": "execute_result"
    }
   ],
   "source": [
    "dt['UrbanRural'].value_counts()"
   ]
  },
  {
   "cell_type": "code",
   "execution_count": 128,
   "metadata": {},
   "outputs": [
    {
     "data": {
      "text/plain": [
       "Name                         object\n",
       "State                        object\n",
       "Bank                         object\n",
       "BankState                    object\n",
       "ApprovalDate         datetime64[ns]\n",
       "ApprovalFY                    int64\n",
       "Term                          int64\n",
       "NoEmp                         int64\n",
       "NewExist                      int64\n",
       "CreateJob                     int64\n",
       "RetainedJob                   int64\n",
       "FranchiseCode                 int64\n",
       "UrbanRural                   object\n",
       "RevLineCr                     int64\n",
       "LowDoc                        int64\n",
       "DisbursementDate     datetime64[ns]\n",
       "DisbursementGross             int32\n",
       "BalanceGross                  int32\n",
       "MIS_Status                    int64\n",
       "Chg_Off_Amt                   int32\n",
       "GrAppv                        int32\n",
       "SBA_Appv                      int32\n",
       "dtype: object"
      ]
     },
     "execution_count": 128,
     "metadata": {},
     "output_type": "execute_result"
    }
   ],
   "source": [
    "dt.dtypes"
   ]
  },
  {
   "cell_type": "code",
   "execution_count": 129,
   "metadata": {},
   "outputs": [],
   "source": [
    "dt.to_csv(\"Lp_AnalysedData.csv\")"
   ]
  },
  {
   "cell_type": "code",
   "execution_count": 130,
   "metadata": {},
   "outputs": [
    {
     "data": {
      "text/plain": [
       "'C:\\\\Users\\\\RASHMI'"
      ]
     },
     "execution_count": 130,
     "metadata": {},
     "output_type": "execute_result"
    }
   ],
   "source": [
    "os.getcwd()"
   ]
  },
  {
   "cell_type": "markdown",
   "metadata": {},
   "source": [
    "# Plots and Graphs"
   ]
  },
  {
   "cell_type": "code",
   "execution_count": null,
   "metadata": {},
   "outputs": [],
   "source": [
    "sns.pairplot(dt)"
   ]
  },
  {
   "cell_type": "code",
   "execution_count": null,
   "metadata": {},
   "outputs": [],
   "source": [
    "corelation=dt.corr()"
   ]
  },
  {
   "cell_type": "code",
   "execution_count": null,
   "metadata": {},
   "outputs": [],
   "source": [
    "sns.heatmap(corelation,xticklabels=corelation.columns,yticklabels=corelation.columns,annot=True, cmap='coolwarm')"
   ]
  },
  {
   "cell_type": "code",
   "execution_count": null,
   "metadata": {},
   "outputs": [],
   "source": [
    "sns.heatmap(corelation,xticklabels=corelation.columns,yticklabels=corelation.columns,annot=True)"
   ]
  },
  {
   "cell_type": "code",
   "execution_count": null,
   "metadata": {},
   "outputs": [],
   "source": [
    "dt.corr(method ='pearson')"
   ]
  },
  {
   "cell_type": "code",
   "execution_count": null,
   "metadata": {},
   "outputs": [],
   "source": [
    "sns.pairplot(\n",
    "   dt,\n",
    "    x_vars=[\"SBA_Appv\", \"GrAppv\", \"DisbursementGross\"],\n",
    "    y_vars=[\"SBA_Appv\",\"GrAppv\",\"DisbursementGross\"],\n",
    ")"
   ]
  },
  {
   "cell_type": "code",
   "execution_count": null,
   "metadata": {},
   "outputs": [],
   "source": [
    "sns.countplot(dt.MIS_Status)"
   ]
  },
  {
   "cell_type": "code",
   "execution_count": null,
   "metadata": {},
   "outputs": [],
   "source": [
    "sns.countplot(dt.RevLineCr)"
   ]
  },
  {
   "cell_type": "code",
   "execution_count": null,
   "metadata": {},
   "outputs": [],
   "source": [
    "sns.countplot(dt.LowDoc)"
   ]
  },
  {
   "cell_type": "code",
   "execution_count": null,
   "metadata": {},
   "outputs": [],
   "source": [
    "sns.countplot(dt.UrbanRural)"
   ]
  },
  {
   "cell_type": "code",
   "execution_count": null,
   "metadata": {},
   "outputs": [],
   "source": [
    "dt['UrbanRural'].unique()"
   ]
  }
 ],
 "metadata": {
  "kernelspec": {
   "display_name": "Python 3",
   "language": "python",
   "name": "python3"
  },
  "language_info": {
   "codemirror_mode": {
    "name": "ipython",
    "version": 3
   },
   "file_extension": ".py",
   "mimetype": "text/x-python",
   "name": "python",
   "nbconvert_exporter": "python",
   "pygments_lexer": "ipython3",
   "version": "3.8.5"
  }
 },
 "nbformat": 4,
 "nbformat_minor": 4
}
