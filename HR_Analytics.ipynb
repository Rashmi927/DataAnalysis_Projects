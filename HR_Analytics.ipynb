{
 "cells": [
  {
   "cell_type": "code",
   "execution_count": 1,
   "metadata": {},
   "outputs": [],
   "source": [
    "import pandas as pd\n",
    "import numpy as np\n",
    "import seaborn as sns\n",
    "import matplotlib.pyplot as plt"
   ]
  },
  {
   "cell_type": "code",
   "execution_count": 2,
   "metadata": {},
   "outputs": [],
   "source": [
    "df = pd.read_csv('final.csv')"
   ]
  },
  {
   "cell_type": "code",
   "execution_count": 78,
   "metadata": {},
   "outputs": [
    {
     "data": {
      "text/html": [
       "<div>\n",
       "<style scoped>\n",
       "    .dataframe tbody tr th:only-of-type {\n",
       "        vertical-align: middle;\n",
       "    }\n",
       "\n",
       "    .dataframe tbody tr th {\n",
       "        vertical-align: top;\n",
       "    }\n",
       "\n",
       "    .dataframe thead th {\n",
       "        text-align: right;\n",
       "    }\n",
       "</style>\n",
       "<table border=\"1\" class=\"dataframe\">\n",
       "  <thead>\n",
       "    <tr style=\"text-align: right;\">\n",
       "      <th></th>\n",
       "      <th>Id</th>\n",
       "      <th>Age</th>\n",
       "      <th>Gender</th>\n",
       "      <th>Marital_status</th>\n",
       "      <th>Num_comp_worked</th>\n",
       "      <th>Work_Experience</th>\n",
       "      <th>Last_salary</th>\n",
       "      <th>Salary_hike</th>\n",
       "      <th>Work_hours</th>\n",
       "      <th>Traveling_required</th>\n",
       "      <th>...</th>\n",
       "      <th>Annual_leave</th>\n",
       "      <th>Medical_Family</th>\n",
       "      <th>Child_day_care</th>\n",
       "      <th>Nursing_room</th>\n",
       "      <th>Parking</th>\n",
       "      <th>Comp_size</th>\n",
       "      <th>Comp_rating</th>\n",
       "      <th>Work_life</th>\n",
       "      <th>Stresslevel</th>\n",
       "      <th>Accept_offer</th>\n",
       "    </tr>\n",
       "  </thead>\n",
       "  <tbody>\n",
       "    <tr>\n",
       "      <th>0</th>\n",
       "      <td>1</td>\n",
       "      <td>0</td>\n",
       "      <td>0</td>\n",
       "      <td>0</td>\n",
       "      <td>1</td>\n",
       "      <td>1</td>\n",
       "      <td>2</td>\n",
       "      <td>4</td>\n",
       "      <td>0</td>\n",
       "      <td>0</td>\n",
       "      <td>...</td>\n",
       "      <td>1</td>\n",
       "      <td>0</td>\n",
       "      <td>0</td>\n",
       "      <td>NaN</td>\n",
       "      <td>0</td>\n",
       "      <td>4</td>\n",
       "      <td>3</td>\n",
       "      <td>3</td>\n",
       "      <td>2</td>\n",
       "      <td>0</td>\n",
       "    </tr>\n",
       "    <tr>\n",
       "      <th>1</th>\n",
       "      <td>2</td>\n",
       "      <td>1</td>\n",
       "      <td>1</td>\n",
       "      <td>1</td>\n",
       "      <td>0</td>\n",
       "      <td>1</td>\n",
       "      <td>1</td>\n",
       "      <td>2</td>\n",
       "      <td>0</td>\n",
       "      <td>0</td>\n",
       "      <td>...</td>\n",
       "      <td>1</td>\n",
       "      <td>0</td>\n",
       "      <td>0</td>\n",
       "      <td>1.0</td>\n",
       "      <td>0</td>\n",
       "      <td>4</td>\n",
       "      <td>3</td>\n",
       "      <td>4</td>\n",
       "      <td>2</td>\n",
       "      <td>1</td>\n",
       "    </tr>\n",
       "    <tr>\n",
       "      <th>2</th>\n",
       "      <td>3</td>\n",
       "      <td>1</td>\n",
       "      <td>0</td>\n",
       "      <td>1</td>\n",
       "      <td>0</td>\n",
       "      <td>2</td>\n",
       "      <td>1</td>\n",
       "      <td>1</td>\n",
       "      <td>0</td>\n",
       "      <td>1</td>\n",
       "      <td>...</td>\n",
       "      <td>1</td>\n",
       "      <td>0</td>\n",
       "      <td>0</td>\n",
       "      <td>NaN</td>\n",
       "      <td>1</td>\n",
       "      <td>4</td>\n",
       "      <td>2</td>\n",
       "      <td>1</td>\n",
       "      <td>4</td>\n",
       "      <td>0</td>\n",
       "    </tr>\n",
       "    <tr>\n",
       "      <th>3</th>\n",
       "      <td>4</td>\n",
       "      <td>0</td>\n",
       "      <td>0</td>\n",
       "      <td>0</td>\n",
       "      <td>0</td>\n",
       "      <td>2</td>\n",
       "      <td>1</td>\n",
       "      <td>1</td>\n",
       "      <td>0</td>\n",
       "      <td>1</td>\n",
       "      <td>...</td>\n",
       "      <td>1</td>\n",
       "      <td>0</td>\n",
       "      <td>0</td>\n",
       "      <td>NaN</td>\n",
       "      <td>1</td>\n",
       "      <td>3</td>\n",
       "      <td>2</td>\n",
       "      <td>3</td>\n",
       "      <td>3</td>\n",
       "      <td>1</td>\n",
       "    </tr>\n",
       "    <tr>\n",
       "      <th>4</th>\n",
       "      <td>5</td>\n",
       "      <td>2</td>\n",
       "      <td>0</td>\n",
       "      <td>0</td>\n",
       "      <td>2</td>\n",
       "      <td>2</td>\n",
       "      <td>1</td>\n",
       "      <td>3</td>\n",
       "      <td>0</td>\n",
       "      <td>0</td>\n",
       "      <td>...</td>\n",
       "      <td>1</td>\n",
       "      <td>0</td>\n",
       "      <td>0</td>\n",
       "      <td>NaN</td>\n",
       "      <td>1</td>\n",
       "      <td>4</td>\n",
       "      <td>4</td>\n",
       "      <td>3</td>\n",
       "      <td>1</td>\n",
       "      <td>1</td>\n",
       "    </tr>\n",
       "  </tbody>\n",
       "</table>\n",
       "<p>5 rows × 34 columns</p>\n",
       "</div>"
      ],
      "text/plain": [
       "   Id  Age  Gender  Marital_status  Num_comp_worked  Work_Experience  \\\n",
       "0   1    0       0               0                1                1   \n",
       "1   2    1       1               1                0                1   \n",
       "2   3    1       0               1                0                2   \n",
       "3   4    0       0               0                0                2   \n",
       "4   5    2       0               0                2                2   \n",
       "\n",
       "   Last_salary  Salary_hike  Work_hours  Traveling_required  ...  \\\n",
       "0            2            4           0                   0  ...   \n",
       "1            1            2           0                   0  ...   \n",
       "2            1            1           0                   1  ...   \n",
       "3            1            1           0                   1  ...   \n",
       "4            1            3           0                   0  ...   \n",
       "\n",
       "   Annual_leave  Medical_Family  Child_day_care  Nursing_room  Parking  \\\n",
       "0             1               0               0           NaN        0   \n",
       "1             1               0               0           1.0        0   \n",
       "2             1               0               0           NaN        1   \n",
       "3             1               0               0           NaN        1   \n",
       "4             1               0               0           NaN        1   \n",
       "\n",
       "   Comp_size  Comp_rating  Work_life  Stresslevel  Accept_offer  \n",
       "0          4            3          3            2             0  \n",
       "1          4            3          4            2             1  \n",
       "2          4            2          1            4             0  \n",
       "3          3            2          3            3             1  \n",
       "4          4            4          3            1             1  \n",
       "\n",
       "[5 rows x 34 columns]"
      ]
     },
     "execution_count": 78,
     "metadata": {},
     "output_type": "execute_result"
    }
   ],
   "source": [
    "df.head()"
   ]
  },
  {
   "cell_type": "code",
   "execution_count": 3,
   "metadata": {},
   "outputs": [
    {
     "data": {
      "text/plain": [
       "(5038, 34)"
      ]
     },
     "execution_count": 3,
     "metadata": {},
     "output_type": "execute_result"
    }
   ],
   "source": [
    "df.shape"
   ]
  },
  {
   "cell_type": "code",
   "execution_count": 4,
   "metadata": {},
   "outputs": [
    {
     "data": {
      "text/plain": [
       "Id                                  int64\n",
       "Age                                 int64\n",
       "Gender                              int64\n",
       "Marital_status                      int64\n",
       "Num_comp_worked                     int64\n",
       "Work_Experience                     int64\n",
       "Last_salary                         int64\n",
       "Salary_hike                         int64\n",
       "Work_hours                          int64\n",
       "Traveling_required                  int64\n",
       "NoticePeriod_buyout                 int64\n",
       "Job_type                            int64\n",
       "Whether_comp_Possess_vehicle        int64\n",
       "Work_location                       int64\n",
       "Traveltowork_distance_._time        int64\n",
       "Work_area_living_cost               int64\n",
       "Public_transport_nearby             int64\n",
       "Current_employment                  int64\n",
       "Offer_letter_Processtime.week.      int64\n",
       "Bonus                               int64\n",
       "Allowance                           int64\n",
       "Overtime_pay                        int64\n",
       "Emp_shares_scheme                   int64\n",
       "Performance_incentive               int64\n",
       "Annual_leave                        int64\n",
       "Medical_Family                      int64\n",
       "Child_day_care                      int64\n",
       "Nursing_room                      float64\n",
       "Parking                             int64\n",
       "Comp_size                           int64\n",
       "Comp_rating                         int64\n",
       "Work_life                           int64\n",
       "Stresslevel                         int64\n",
       "Accept_offer                        int64\n",
       "dtype: object"
      ]
     },
     "execution_count": 4,
     "metadata": {},
     "output_type": "execute_result"
    }
   ],
   "source": [
    "df.dtypes"
   ]
  },
  {
   "cell_type": "code",
   "execution_count": 5,
   "metadata": {},
   "outputs": [
    {
     "data": {
      "text/plain": [
       "Id                                   0\n",
       "Age                                  0\n",
       "Gender                               0\n",
       "Marital_status                       0\n",
       "Num_comp_worked                      0\n",
       "Work_Experience                      0\n",
       "Last_salary                          0\n",
       "Salary_hike                          0\n",
       "Work_hours                           0\n",
       "Traveling_required                   0\n",
       "NoticePeriod_buyout                  0\n",
       "Job_type                             0\n",
       "Whether_comp_Possess_vehicle         0\n",
       "Work_location                        0\n",
       "Traveltowork_distance_._time         0\n",
       "Work_area_living_cost                0\n",
       "Public_transport_nearby              0\n",
       "Current_employment                   0\n",
       "Offer_letter_Processtime.week.       0\n",
       "Bonus                                0\n",
       "Allowance                            0\n",
       "Overtime_pay                         0\n",
       "Emp_shares_scheme                    0\n",
       "Performance_incentive                0\n",
       "Annual_leave                         0\n",
       "Medical_Family                       0\n",
       "Child_day_care                       0\n",
       "Nursing_room                      2457\n",
       "Parking                              0\n",
       "Comp_size                            0\n",
       "Comp_rating                          0\n",
       "Work_life                            0\n",
       "Stresslevel                          0\n",
       "Accept_offer                         0\n",
       "dtype: int64"
      ]
     },
     "execution_count": 5,
     "metadata": {},
     "output_type": "execute_result"
    }
   ],
   "source": [
    "df.isnull().sum()"
   ]
  },
  {
   "cell_type": "code",
   "execution_count": 6,
   "metadata": {},
   "outputs": [
    {
     "data": {
      "text/plain": [
       "<AxesSubplot:>"
      ]
     },
     "execution_count": 6,
     "metadata": {},
     "output_type": "execute_result"
    },
    {
     "data": {
      "image/png": "[encoded data removed]",
      "text/plain": [
       "<Figure size 432x288 with 1 Axes>"
      ]
     },
     "metadata": {
      "needs_background": "light"
     },
     "output_type": "display_data"
    }
   ],
   "source": [
    "sns.heatmap(df.isnull(), yticklabels = False,  cbar = False, cmap = 'viridis')"
   ]
  },
  {
   "cell_type": "code",
   "execution_count": 7,
   "metadata": {},
   "outputs": [
    {
     "data": {
      "text/plain": [
       "0.0    1456\n",
       "1.0    1125\n",
       "Name: Nursing_room, dtype: int64"
      ]
     },
     "execution_count": 7,
     "metadata": {},
     "output_type": "execute_result"
    }
   ],
   "source": [
    "df['Nursing_room'].value_counts()"
   ]
  },
  {
   "cell_type": "code",
   "execution_count": 8,
   "metadata": {},
   "outputs": [],
   "source": [
    "#df['Nursing_room'] = df['Nursing_room'].fillna('Not_Specified')"
   ]
  },
  {
   "cell_type": "code",
   "execution_count": 9,
   "metadata": {},
   "outputs": [],
   "source": [
    "df['Nursing_room'] = df['Nursing_room'].fillna(0)"
   ]
  },
  {
   "cell_type": "code",
   "execution_count": 10,
   "metadata": {},
   "outputs": [],
   "source": [
    "room = {'Nursing_room': {0: 'No', 1:\"Yes\"}}\n",
    "df = df.replace(room)"
   ]
  },
  {
   "cell_type": "code",
   "execution_count": 11,
   "metadata": {},
   "outputs": [],
   "source": [
    "parking = {'Parking': {0: 'No', 1:\"Yes\"}}\n",
    "df = df.replace(parking)"
   ]
  },
  {
   "cell_type": "code",
   "execution_count": 12,
   "metadata": {},
   "outputs": [],
   "source": [
    "size = {'Comp_size': {0: 'less than 200', 1: '200-500' , 2: '500-2000' ,3: '2000-5000', 4: 'more than 5000'}}\n",
    "df = df.replace(size)"
   ]
  },
  {
   "cell_type": "code",
   "execution_count": 13,
   "metadata": {},
   "outputs": [],
   "source": [
    "care = {'Child_day_care': {0: 'No', 1:\"Yes\"}}\n",
    "df = df.replace(care)"
   ]
  },
  {
   "cell_type": "code",
   "execution_count": 14,
   "metadata": {},
   "outputs": [],
   "source": [
    "m_fam = {'Medical_Family': {0: 'No', 1:\"Yes\"}}\n",
    "df = df.replace(m_fam)"
   ]
  },
  {
   "cell_type": "code",
   "execution_count": 15,
   "metadata": {},
   "outputs": [],
   "source": [
    "a_leave = {'Annual_leave': {0:' < 12 days', 1: '> 12 days'}}\n",
    "df = df.replace(a_leave)"
   ]
  },
  {
   "cell_type": "code",
   "execution_count": 16,
   "metadata": {},
   "outputs": [],
   "source": [
    "p_incentive = {'Performance_incentive': {0: 'No', 1: 'Yes'}}\n",
    "df = df.replace(p_incentive)"
   ]
  },
  {
   "cell_type": "code",
   "execution_count": 17,
   "metadata": {},
   "outputs": [],
   "source": [
    "emp_share = {'Emp_shares_scheme': {0: 'No', 1: 'Yes'}}\n",
    "df = df.replace(emp_share)"
   ]
  },
  {
   "cell_type": "code",
   "execution_count": 18,
   "metadata": {},
   "outputs": [],
   "source": [
    "allowance = {'Allowance': {0: 'No', 1: 'Yes'}}\n",
    "df = df.replace(allowance)"
   ]
  },
  {
   "cell_type": "code",
   "execution_count": 19,
   "metadata": {},
   "outputs": [],
   "source": [
    "otime = {'Overtime_pay': {0: 'No', 1:'Yes'}}\n",
    "df = df.replace(otime)"
   ]
  },
  {
   "cell_type": "code",
   "execution_count": 20,
   "metadata": {},
   "outputs": [],
   "source": [
    "bonus = {'Bonus': {0:'No', 1:'Yes'}}\n",
    "df = df.replace(bonus)"
   ]
  },
  {
   "cell_type": "code",
   "execution_count": 21,
   "metadata": {},
   "outputs": [],
   "source": [
    "lb4 = {'Offer_letter_Processtime.week.': {0: 1, 1: 2, 2:3, 3:4, 4:5}}\n",
    "df = df.replace(lb4)"
   ]
  },
  {
   "cell_type": "code",
   "execution_count": 22,
   "metadata": {},
   "outputs": [],
   "source": [
    "c_emp = {'Current_employment': {0: 'Unemployed/Resigned', 1: 'Working'}}\n",
    "df = df.replace(c_emp)"
   ]
  },
  {
   "cell_type": "code",
   "execution_count": 23,
   "metadata": {},
   "outputs": [],
   "source": [
    "trans = {'Public_transport_nearby': {0: 'No', 1:'Yes'}}\n",
    "df = df.replace(trans)"
   ]
  },
  {
   "cell_type": "code",
   "execution_count": 24,
   "metadata": {},
   "outputs": [],
   "source": [
    "w_area = {\"Work_area_living_cost\" : {0: 'Low_cost', 1: 'Average', 2: 'high_cost'}}\n",
    "df = df.replace(w_area)"
   ]
  },
  {
   "cell_type": "code",
   "execution_count": 25,
   "metadata": {},
   "outputs": [],
   "source": [
    "dist = {\"Traveltowork_distance\": {0: \"near\", 1: \"average\", 2: \"far\"}}\n",
    "df = df.replace(dist)"
   ]
  },
  {
   "cell_type": "code",
   "execution_count": 26,
   "metadata": {},
   "outputs": [],
   "source": [
    "w_location = {'Work_location': {0: 'Outskirt town', 1: 'Town', 2: 'Business Center'}}\n",
    "df = df.replace(w_location)"
   ]
  },
  {
   "cell_type": "code",
   "execution_count": 27,
   "metadata": {},
   "outputs": [],
   "source": [
    "possess_v = {'Whether_comp_Possess_vehicle': {0:'No', 1:'Yes'}}\n",
    "df = df.replace(possess_v)"
   ]
  },
  {
   "cell_type": "code",
   "execution_count": 28,
   "metadata": {},
   "outputs": [],
   "source": [
    "job = {'Job_type': {0:'Contract', 1:'Permanent'}}\n",
    "df = df.replace(job)"
   ]
  },
  {
   "cell_type": "code",
   "execution_count": 29,
   "metadata": {},
   "outputs": [],
   "source": [
    "notice = {'NoticePeriod_buyout':{0:'No', 1:'Yes'}}\n",
    "df = df.replace(notice)"
   ]
  },
  {
   "cell_type": "code",
   "execution_count": 30,
   "metadata": {},
   "outputs": [],
   "source": [
    "Tr_req = {'Traveling_required': {0:'No', 1:'Yes'}}\n",
    "df = df.replace(Tr_req)"
   ]
  },
  {
   "cell_type": "code",
   "execution_count": 31,
   "metadata": {},
   "outputs": [],
   "source": [
    "w_hrs = {'Work_hours':{0:'Mon-Fri', 1:'24/7 operation', 2:'Flexible hours'}}\n",
    "df = df.replace(w_hrs)"
   ]
  },
  {
   "cell_type": "code",
   "execution_count": 32,
   "metadata": {},
   "outputs": [],
   "source": [
    "salary_hike = {'Salary_hike': {0: '<25%', 1: '25-50%', 2:'50-75%', 3:'75-100%', 4:'100% above'}}\n",
    "df = df.replace(salary_hike) "
   ]
  },
  {
   "cell_type": "code",
   "execution_count": 33,
   "metadata": {},
   "outputs": [],
   "source": [
    "l_salary = {'Last_salary': {0:'1-3.5K', 1: '3.5-7K', 2: '7-10K', 3: '10-15K', 4:'15K above'}}\n",
    "df = df.replace(l_salary)"
   ]
  },
  {
   "cell_type": "code",
   "execution_count": 34,
   "metadata": {},
   "outputs": [],
   "source": [
    "w_exp = {'Work_Experience': {0: '2_Years', 1: '5_Years', 2: '8_Years', 3: '8_Years_Above'}}\n",
    "df = df.replace(w_exp)"
   ]
  },
  {
   "cell_type": "code",
   "execution_count": 35,
   "metadata": {},
   "outputs": [],
   "source": [
    "N_C_worked = {'Num_comp_worked': {0:'0-2', 1:'3-5', 2:'6-8', 3:'9 Above' }}\n",
    "df = df.replace(N_C_worked)"
   ]
  },
  {
   "cell_type": "code",
   "execution_count": 36,
   "metadata": {},
   "outputs": [],
   "source": [
    " accept_Offer = {'Accept_offer': {0:'Not_Accepted', 1: 'Accepted'}}\n",
    "df = df.replace(accept_Offer)"
   ]
  },
  {
   "cell_type": "code",
   "execution_count": 37,
   "metadata": {},
   "outputs": [],
   "source": [
    "gen = {'Gender': {0:'Male', 1: 'Female'}}\n",
    "df = df.replace(gen)"
   ]
  },
  {
   "cell_type": "code",
   "execution_count": 38,
   "metadata": {},
   "outputs": [],
   "source": [
    "rating = {'Comp_rating': {0:'0_Star', 1:'1_Star', 2:'2_Star',3:'3_Star', 4:'4_Star'}}\n",
    "df = df.replace(rating)"
   ]
  },
  {
   "cell_type": "code",
   "execution_count": 39,
   "metadata": {},
   "outputs": [],
   "source": [
    "Stress = {'Stresslevel': {0:'0 SL', 1:'1 SL', 2:'2 SL',3:'3 SL', 4:'4 SL'}}\n",
    "df = df.replace(Stress)"
   ]
  },
  {
   "cell_type": "code",
   "execution_count": 40,
   "metadata": {},
   "outputs": [],
   "source": [
    "work_life = {'Work_life': {0:'0_Not satisfied', 1:'1_Less satisfied', 2:'2_Somewhat satisfied',3:'3_Satisfied', \n",
    "                           4:'4_Highly satisfied'}}\n",
    "df = df.replace(work_life)"
   ]
  },
  {
   "cell_type": "code",
   "execution_count": 41,
   "metadata": {},
   "outputs": [],
   "source": [
    "marital_s = {'Marital_status': {0: 'Single', 1: 'Married'}}\n",
    "df = df.replace(marital_s)"
   ]
  },
  {
   "cell_type": "code",
   "execution_count": 42,
   "metadata": {},
   "outputs": [],
   "source": [
    "age = {'Age': {0: '19-26', 1: '27-33', 2: '34-40', 3: '40 above'}}\n",
    "df = df.replace(age)"
   ]
  },
  {
   "cell_type": "code",
   "execution_count": 43,
   "metadata": {},
   "outputs": [
    {
     "data": {
      "text/html": [
       "<div>\n",
       "<style scoped>\n",
       "    .dataframe tbody tr th:only-of-type {\n",
       "        vertical-align: middle;\n",
       "    }\n",
       "\n",
       "    .dataframe tbody tr th {\n",
       "        vertical-align: top;\n",
       "    }\n",
       "\n",
       "    .dataframe thead th {\n",
       "        text-align: right;\n",
       "    }\n",
       "</style>\n",
       "<table border=\"1\" class=\"dataframe\">\n",
       "  <thead>\n",
       "    <tr style=\"text-align: right;\">\n",
       "      <th></th>\n",
       "      <th>Id</th>\n",
       "      <th>Age</th>\n",
       "      <th>Gender</th>\n",
       "      <th>Marital_status</th>\n",
       "      <th>Num_comp_worked</th>\n",
       "      <th>Work_Experience</th>\n",
       "      <th>Last_salary</th>\n",
       "      <th>Salary_hike</th>\n",
       "      <th>Work_hours</th>\n",
       "      <th>Traveling_required</th>\n",
       "      <th>...</th>\n",
       "      <th>Annual_leave</th>\n",
       "      <th>Medical_Family</th>\n",
       "      <th>Child_day_care</th>\n",
       "      <th>Nursing_room</th>\n",
       "      <th>Parking</th>\n",
       "      <th>Comp_size</th>\n",
       "      <th>Comp_rating</th>\n",
       "      <th>Work_life</th>\n",
       "      <th>Stresslevel</th>\n",
       "      <th>Accept_offer</th>\n",
       "    </tr>\n",
       "  </thead>\n",
       "  <tbody>\n",
       "    <tr>\n",
       "      <th>0</th>\n",
       "      <td>1</td>\n",
       "      <td>19-26</td>\n",
       "      <td>Male</td>\n",
       "      <td>Single</td>\n",
       "      <td>3-5</td>\n",
       "      <td>5_Years</td>\n",
       "      <td>7-10K</td>\n",
       "      <td>100% above</td>\n",
       "      <td>Mon-Fri</td>\n",
       "      <td>No</td>\n",
       "      <td>...</td>\n",
       "      <td>&gt; 12 days</td>\n",
       "      <td>No</td>\n",
       "      <td>No</td>\n",
       "      <td>No</td>\n",
       "      <td>No</td>\n",
       "      <td>more than 5000</td>\n",
       "      <td>3_Star</td>\n",
       "      <td>3_Satisfied</td>\n",
       "      <td>2 SL</td>\n",
       "      <td>Not_Accepted</td>\n",
       "    </tr>\n",
       "    <tr>\n",
       "      <th>1</th>\n",
       "      <td>2</td>\n",
       "      <td>27-33</td>\n",
       "      <td>Female</td>\n",
       "      <td>Married</td>\n",
       "      <td>0-2</td>\n",
       "      <td>5_Years</td>\n",
       "      <td>3.5-7K</td>\n",
       "      <td>50-75%</td>\n",
       "      <td>Mon-Fri</td>\n",
       "      <td>No</td>\n",
       "      <td>...</td>\n",
       "      <td>&gt; 12 days</td>\n",
       "      <td>No</td>\n",
       "      <td>No</td>\n",
       "      <td>Yes</td>\n",
       "      <td>No</td>\n",
       "      <td>more than 5000</td>\n",
       "      <td>3_Star</td>\n",
       "      <td>4_Highly satisfied</td>\n",
       "      <td>2 SL</td>\n",
       "      <td>Accepted</td>\n",
       "    </tr>\n",
       "    <tr>\n",
       "      <th>2</th>\n",
       "      <td>3</td>\n",
       "      <td>27-33</td>\n",
       "      <td>Male</td>\n",
       "      <td>Married</td>\n",
       "      <td>0-2</td>\n",
       "      <td>8_Years</td>\n",
       "      <td>3.5-7K</td>\n",
       "      <td>25-50%</td>\n",
       "      <td>Mon-Fri</td>\n",
       "      <td>Yes</td>\n",
       "      <td>...</td>\n",
       "      <td>&gt; 12 days</td>\n",
       "      <td>No</td>\n",
       "      <td>No</td>\n",
       "      <td>No</td>\n",
       "      <td>Yes</td>\n",
       "      <td>more than 5000</td>\n",
       "      <td>2_Star</td>\n",
       "      <td>1_Less satisfied</td>\n",
       "      <td>4 SL</td>\n",
       "      <td>Not_Accepted</td>\n",
       "    </tr>\n",
       "    <tr>\n",
       "      <th>3</th>\n",
       "      <td>4</td>\n",
       "      <td>19-26</td>\n",
       "      <td>Male</td>\n",
       "      <td>Single</td>\n",
       "      <td>0-2</td>\n",
       "      <td>8_Years</td>\n",
       "      <td>3.5-7K</td>\n",
       "      <td>25-50%</td>\n",
       "      <td>Mon-Fri</td>\n",
       "      <td>Yes</td>\n",
       "      <td>...</td>\n",
       "      <td>&gt; 12 days</td>\n",
       "      <td>No</td>\n",
       "      <td>No</td>\n",
       "      <td>No</td>\n",
       "      <td>Yes</td>\n",
       "      <td>2000-5000</td>\n",
       "      <td>2_Star</td>\n",
       "      <td>3_Satisfied</td>\n",
       "      <td>3 SL</td>\n",
       "      <td>Accepted</td>\n",
       "    </tr>\n",
       "    <tr>\n",
       "      <th>4</th>\n",
       "      <td>5</td>\n",
       "      <td>34-40</td>\n",
       "      <td>Male</td>\n",
       "      <td>Single</td>\n",
       "      <td>6-8</td>\n",
       "      <td>8_Years</td>\n",
       "      <td>3.5-7K</td>\n",
       "      <td>75-100%</td>\n",
       "      <td>Mon-Fri</td>\n",
       "      <td>No</td>\n",
       "      <td>...</td>\n",
       "      <td>&gt; 12 days</td>\n",
       "      <td>No</td>\n",
       "      <td>No</td>\n",
       "      <td>No</td>\n",
       "      <td>Yes</td>\n",
       "      <td>more than 5000</td>\n",
       "      <td>4_Star</td>\n",
       "      <td>3_Satisfied</td>\n",
       "      <td>1 SL</td>\n",
       "      <td>Accepted</td>\n",
       "    </tr>\n",
       "  </tbody>\n",
       "</table>\n",
       "<p>5 rows × 34 columns</p>\n",
       "</div>"
      ],
      "text/plain": [
       "   Id    Age  Gender Marital_status Num_comp_worked Work_Experience  \\\n",
       "0   1  19-26    Male         Single             3-5         5_Years   \n",
       "1   2  27-33  Female        Married             0-2         5_Years   \n",
       "2   3  27-33    Male        Married             0-2         8_Years   \n",
       "3   4  19-26    Male         Single             0-2         8_Years   \n",
       "4   5  34-40    Male         Single             6-8         8_Years   \n",
       "\n",
       "  Last_salary Salary_hike Work_hours Traveling_required  ... Annual_leave  \\\n",
       "0       7-10K  100% above    Mon-Fri                 No  ...    > 12 days   \n",
       "1      3.5-7K      50-75%    Mon-Fri                 No  ...    > 12 days   \n",
       "2      3.5-7K      25-50%    Mon-Fri                Yes  ...    > 12 days   \n",
       "3      3.5-7K      25-50%    Mon-Fri                Yes  ...    > 12 days   \n",
       "4      3.5-7K     75-100%    Mon-Fri                 No  ...    > 12 days   \n",
       "\n",
       "  Medical_Family Child_day_care Nursing_room  Parking       Comp_size  \\\n",
       "0             No             No           No       No  more than 5000   \n",
       "1             No             No          Yes       No  more than 5000   \n",
       "2             No             No           No      Yes  more than 5000   \n",
       "3             No             No           No      Yes       2000-5000   \n",
       "4             No             No           No      Yes  more than 5000   \n",
       "\n",
       "  Comp_rating           Work_life  Stresslevel  Accept_offer  \n",
       "0      3_Star         3_Satisfied         2 SL  Not_Accepted  \n",
       "1      3_Star  4_Highly satisfied         2 SL      Accepted  \n",
       "2      2_Star    1_Less satisfied         4 SL  Not_Accepted  \n",
       "3      2_Star         3_Satisfied         3 SL      Accepted  \n",
       "4      4_Star         3_Satisfied         1 SL      Accepted  \n",
       "\n",
       "[5 rows x 34 columns]"
      ]
     },
     "execution_count": 43,
     "metadata": {},
     "output_type": "execute_result"
    }
   ],
   "source": [
    "df.head()"
   ]
  },
  {
   "cell_type": "code",
   "execution_count": 44,
   "metadata": {},
   "outputs": [
    {
     "name": "stdout",
     "output_type": "stream",
     "text": [
      "<class 'pandas.core.frame.DataFrame'>\n",
      "RangeIndex: 5038 entries, 0 to 5037\n",
      "Data columns (total 34 columns):\n",
      " #   Column                          Non-Null Count  Dtype \n",
      "---  ------                          --------------  ----- \n",
      " 0   Id                              5038 non-null   int64 \n",
      " 1   Age                             5038 non-null   object\n",
      " 2   Gender                          5038 non-null   object\n",
      " 3   Marital_status                  5038 non-null   object\n",
      " 4   Num_comp_worked                 5038 non-null   object\n",
      " 5   Work_Experience                 5038 non-null   object\n",
      " 6   Last_salary                     5038 non-null   object\n",
      " 7   Salary_hike                     5038 non-null   object\n",
      " 8   Work_hours                      5038 non-null   object\n",
      " 9   Traveling_required              5038 non-null   object\n",
      " 10  NoticePeriod_buyout             5038 non-null   object\n",
      " 11  Job_type                        5038 non-null   object\n",
      " 12  Whether_comp_Possess_vehicle    5038 non-null   object\n",
      " 13  Work_location                   5038 non-null   object\n",
      " 14  Traveltowork_distance_._time    5038 non-null   int64 \n",
      " 15  Work_area_living_cost           5038 non-null   object\n",
      " 16  Public_transport_nearby         5038 non-null   object\n",
      " 17  Current_employment              5038 non-null   object\n",
      " 18  Offer_letter_Processtime.week.  5038 non-null   int64 \n",
      " 19  Bonus                           5038 non-null   object\n",
      " 20  Allowance                       5038 non-null   object\n",
      " 21  Overtime_pay                    5038 non-null   object\n",
      " 22  Emp_shares_scheme               5038 non-null   object\n",
      " 23  Performance_incentive           5038 non-null   object\n",
      " 24  Annual_leave                    5038 non-null   object\n",
      " 25  Medical_Family                  5038 non-null   object\n",
      " 26  Child_day_care                  5038 non-null   object\n",
      " 27  Nursing_room                    5038 non-null   object\n",
      " 28  Parking                         5038 non-null   object\n",
      " 29  Comp_size                       5038 non-null   object\n",
      " 30  Comp_rating                     5038 non-null   object\n",
      " 31  Work_life                       5038 non-null   object\n",
      " 32  Stresslevel                     5038 non-null   object\n",
      " 33  Accept_offer                    5038 non-null   object\n",
      "dtypes: int64(3), object(31)\n",
      "memory usage: 1.3+ MB\n"
     ]
    }
   ],
   "source": [
    "df.info()"
   ]
  },
  {
   "cell_type": "code",
   "execution_count": 45,
   "metadata": {},
   "outputs": [],
   "source": [
    "df.to_csv('HR_AnalysedData_3.csv')"
   ]
  },
  {
   "cell_type": "code",
   "execution_count": 74,
   "metadata": {},
   "outputs": [],
   "source": [
    "#Take HR_AnalysedData_3 for Visualization"
   ]
  },
  {
   "cell_type": "code",
   "execution_count": 76,
   "metadata": {},
   "outputs": [
    {
     "data": {
      "text/plain": [
       "Male    2457\n",
       "No      1456\n",
       "Yes     1125\n",
       "Name: Nursing_room, dtype: int64"
      ]
     },
     "execution_count": 76,
     "metadata": {},
     "output_type": "execute_result"
    }
   ],
   "source": []
  },
  {
   "cell_type": "markdown",
   "metadata": {},
   "source": [
    "# Analysis"
   ]
  },
  {
   "cell_type": "markdown",
   "metadata": {},
   "source": [
    "# Customers Who accepts job offers"
   ]
  },
  {
   "cell_type": "code",
   "execution_count": 95,
   "metadata": {},
   "outputs": [
    {
     "data": {
      "text/plain": [
       "<AxesSubplot:xlabel='Job_type', ylabel='count'>"
      ]
     },
     "execution_count": 95,
     "metadata": {},
     "output_type": "execute_result"
    },
    {
     "data": {
      "image/png": "[encoded data removed]",
      "text/plain": [
       "<Figure size 432x288 with 1 Axes>"
      ]
     },
     "metadata": {},
     "output_type": "display_data"
    }
   ],
   "source": [
    "sns.set_style('whitegrid')\n",
    "sns.countplot(data = df, hue = 'Accept_offer', x = 'Job_type', palette = 'RdBu_r' )\n",
    "\n",
    "#Most of the customesr accepted the offer for permnent job type "
   ]
  },
  {
   "cell_type": "code",
   "execution_count": 96,
   "metadata": {},
   "outputs": [
    {
     "data": {
      "text/plain": [
       "<AxesSubplot:xlabel='Gender', ylabel='count'>"
      ]
     },
     "execution_count": 96,
     "metadata": {},
     "output_type": "execute_result"
    },
    {
     "data": {
      "image/png": "[encoded data removed]",
      "text/plain": [
       "<Figure size 432x288 with 1 Axes>"
      ]
     },
     "metadata": {},
     "output_type": "display_data"
    }
   ],
   "source": [
    "sns.set_style('whitegrid')\n",
    "sns.countplot(data = df, hue = 'Accept_offer', x = 'Gender', palette = 'RdBu_r' )\n"
   ]
  },
  {
   "cell_type": "code",
   "execution_count": 105,
   "metadata": {},
   "outputs": [
    {
     "data": {
      "text/plain": [
       "<AxesSubplot:xlabel='Nursing_room', ylabel='count'>"
      ]
     },
     "execution_count": 105,
     "metadata": {},
     "output_type": "execute_result"
    },
    {
     "data": {
      "image/png": "[encoded data removed]",
      "text/plain": [
       "<Figure size 432x288 with 1 Axes>"
      ]
     },
     "metadata": {},
     "output_type": "display_data"
    }
   ],
   "source": [
    "sns.set_style('ticks')\n",
    "sns.countplot(data = df, x = 'Nursing_room', hue = 'Gender', palette = 'Oranges_r' )\n",
    "# If company provides Nursing room facilty"
   ]
  },
  {
   "cell_type": "markdown",
   "metadata": {},
   "source": [
    "# Potential customers\n",
    "\n",
    "Potential customers based on their last experience, salary and salary hike"
   ]
  },
  {
   "cell_type": "code",
   "execution_count": 119,
   "metadata": {
    "scrolled": true
   },
   "outputs": [
    {
     "data": {
      "text/plain": [
       "<AxesSubplot:xlabel='Salary_hike', ylabel='count'>"
      ]
     },
     "execution_count": 119,
     "metadata": {},
     "output_type": "execute_result"
    },
    {
     "data": {
      "image/png": "[encoded data removed]",
      "text/plain": [
       "<Figure size 432x288 with 1 Axes>"
      ]
     },
     "metadata": {},
     "output_type": "display_data"
    }
   ],
   "source": [
    "sns.set_style('whitegrid')\n",
    "sns.countplot(data = df, hue = 'Accept_offer', x = 'Salary_hike', palette = 'BrBG')\n",
    "\n",
    "#Potential customers based on their Last salary hike"
   ]
  },
  {
   "cell_type": "code",
   "execution_count": 114,
   "metadata": {},
   "outputs": [
    {
     "data": {
      "text/plain": [
       "<AxesSubplot:xlabel='Last_salary', ylabel='count'>"
      ]
     },
     "execution_count": 114,
     "metadata": {},
     "output_type": "execute_result"
    },
    {
     "data": {
      "image/png": "[encoded data removed]",
      "text/plain": [
       "<Figure size 432x288 with 1 Axes>"
      ]
     },
     "metadata": {},
     "output_type": "display_data"
    }
   ],
   "source": [
    "sns.set_style('whitegrid')\n",
    "sns.countplot(data = df, hue = 'Accept_offer', x = 'Last_salary', palette = 'BrBG')"
   ]
  },
  {
   "cell_type": "code",
   "execution_count": 118,
   "metadata": {},
   "outputs": [
    {
     "data": {
      "text/plain": [
       "<AxesSubplot:xlabel='Work_Experience', ylabel='count'>"
      ]
     },
     "execution_count": 118,
     "metadata": {},
     "output_type": "execute_result"
    },
    {
     "data": {
      "image/png": "[encoded data removed]",
      "text/plain": [
       "<Figure size 432x288 with 1 Axes>"
      ]
     },
     "metadata": {},
     "output_type": "display_data"
    }
   ],
   "source": [
    "sns.set_style('whitegrid')\n",
    "sns.countplot(data = df, hue = 'Accept_offer', x = 'Work_Experience', palette = 'BrBG')"
   ]
  },
  {
   "cell_type": "markdown",
   "metadata": {},
   "source": [
    "# Customers Who accepts offers based on the company standard, rating and culture"
   ]
  },
  {
   "cell_type": "code",
   "execution_count": 123,
   "metadata": {},
   "outputs": [
    {
     "data": {
      "text/plain": [
       "<AxesSubplot:xlabel='Comp_size', ylabel='count'>"
      ]
     },
     "execution_count": 123,
     "metadata": {},
     "output_type": "execute_result"
    },
    {
     "data": {
      "image/png": "[encoded data removed]",
      "text/plain": [
       "<Figure size 432x288 with 1 Axes>"
      ]
     },
     "metadata": {},
     "output_type": "display_data"
    }
   ],
   "source": [
    "sns.set_style('whitegrid')\n",
    "sns.countplot(data = df, hue = 'Accept_offer', x = 'Comp_size', palette = 'PuRd_r')\n",
    "# Most of the costomers accepted the job offers for big companies"
   ]
  },
  {
   "cell_type": "code",
   "execution_count": 124,
   "metadata": {},
   "outputs": [
    {
     "data": {
      "text/plain": [
       "<AxesSubplot:xlabel='Comp_rating', ylabel='count'>"
      ]
     },
     "execution_count": 124,
     "metadata": {},
     "output_type": "execute_result"
    },
    {
     "data": {
      "image/png": "[encoded data removed]",
      "text/plain": [
       "<Figure size 432x288 with 1 Axes>"
      ]
     },
     "metadata": {},
     "output_type": "display_data"
    }
   ],
   "source": [
    "sns.set_style('whitegrid')\n",
    "sns.countplot(data = df, hue = 'Accept_offer', x = 'Comp_rating', palette = 'PuRd_r')\n",
    "\n",
    "# Most of the customers accepted the offer for the company with high rating"
   ]
  },
  {
   "cell_type": "code",
   "execution_count": 125,
   "metadata": {},
   "outputs": [
    {
     "data": {
      "text/plain": [
       "<AxesSubplot:xlabel='Stresslevel', ylabel='count'>"
      ]
     },
     "execution_count": 125,
     "metadata": {},
     "output_type": "execute_result"
    },
    {
     "data": {
      "image/png": "[encoded data removed]",
      "text/plain": [
       "<Figure size 432x288 with 1 Axes>"
      ]
     },
     "metadata": {},
     "output_type": "display_data"
    }
   ],
   "source": [
    "sns.set_style('whitegrid')\n",
    "sns.countplot(data = df, hue = 'Accept_offer', x = 'Stresslevel', palette = 'PuRd_r')\n",
    "\n",
    "# Less customer accepted the offer for the company where stress level is very high"
   ]
  },
  {
   "cell_type": "code",
   "execution_count": 126,
   "metadata": {},
   "outputs": [
    {
     "data": {
      "text/plain": [
       "<AxesSubplot:xlabel='Bonus', ylabel='count'>"
      ]
     },
     "execution_count": 126,
     "metadata": {},
     "output_type": "execute_result"
    },
    {
     "data": {
      "image/png": "[encoded data removed]",
      "text/plain": [
       "<Figure size 432x288 with 1 Axes>"
      ]
     },
     "metadata": {},
     "output_type": "display_data"
    }
   ],
   "source": [
    "sns.set_style('whitegrid')\n",
    "sns.countplot(data = df, hue = 'Accept_offer', x = 'Bonus', palette = 'PuRd_r')"
   ]
  },
  {
   "cell_type": "code",
   "execution_count": null,
   "metadata": {},
   "outputs": [],
   "source": []
  }
 ],
 "metadata": {
  "kernelspec": {
   "display_name": "Python 3",
   "language": "python",
   "name": "python3"
  },
  "language_info": {
   "codemirror_mode": {
    "name": "ipython",
    "version": 3
   },
   "file_extension": ".py",
   "mimetype": "text/x-python",
   "name": "python",
   "nbconvert_exporter": "python",
   "pygments_lexer": "ipython3",
   "version": "3.8.5"
  }
 },
 "nbformat": 4,
 "nbformat_minor": 4
}
